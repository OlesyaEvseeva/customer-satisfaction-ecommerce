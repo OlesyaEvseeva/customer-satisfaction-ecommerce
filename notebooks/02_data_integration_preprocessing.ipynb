{
 "cells": [
  {
   "cell_type": "markdown",
   "id": "0e109ff7",
   "metadata": {},
   "source": [
    "# Data Integration & Preprocessing for Customer Satisfaction Analysis\n",
    "\n",
    "This notebook is part of a larger project exploring customer satisfaction in Brazilian e-commerce using the [Olist dataset](https://www.kaggle.com/datasets/olistbr/brazilian-ecommerce).  \n",
    "It builds on the cleaned datasets prepared in the previous notebook by joining them into a single analytical table, performing additional data cleaning, and engineering features to support the upcoming analysis.\n",
    "\n",
    "\n",
    "**Goals of this notebook:**\n",
    "\n",
    "- Join the cleaned tables into a consolidated dataset at the order level  \n",
    "- Clean and standardize the merged dataset (e.g., data types, missing values)  \n",
    "- Create new features to capture relevant aspects of orders, products, payments etc.\n",
    "- Export the final dataset for analysis\n",
    "\n",
    "**This notebook is preceded and followed by:**\n",
    "\n",
    "- [Data Cleaning Notebook](./01_data_cleaning.ipynb): loads and prepares the individual raw datasets for integration  \n",
    "- [Exploratory Analysis Notebook](./03_customer-satisfaction-analysis.ipynb): investigates customer satisfaction patterns and key influencing factors\n",
    "---"
   ]
  },
  {
   "cell_type": "markdown",
   "id": "d3cc4607",
   "metadata": {},
   "source": [
    "## **Structure of the Notebook**\n",
    "\n",
    "> _Note: Section links and “Back to top” links work best in Jupyter environments (e.g., Jupyter Lab or VS Code). They may not work as expected when clicked directly on GitHub._\n",
    "\n",
    "- [Data Integration](#data-integration)\n",
    "  - [Loading cleaned datasets](#loading-cleaned-csv-files-into-duckdb-tables)\n",
    "  - [Joining tables into order-level dataset](#joining-tables-into-order-level-dataset)\n",
    "- [Post-Merge Cleaning](#post-merge-cleaning)\n",
    "  - [Initial inspection of joined dataset](#initial-inspection-of-joined-dataset)\n",
    "  - [Handling missing values](#handling-missing-values)\n",
    "  - [Handling implausible numeric values](#handling-implausible-numeric-values)\n",
    "  - [Converting data types](#converting-data-types)\n",
    "- Feature Engineering\n",
    "  - Orders\n",
    "    - Complexity\n",
    "    - Price\n",
    "    - Freight\n",
    "    - Weight\n",
    "  - Products\n",
    "    - Product Categories\n",
    "    - Product Presentation\n",
    "    - Product Popularity\n",
    "  - Shipping & Delivery\n",
    "    - Delays\n",
    "    - Delay Groups\n",
    "  - Payments\n",
    "  - Sellers\n",
    "  - Geography\n",
    "  - Review Scores\n",
    "  - Convert data types for new feateres\n",
    "- Export Final Dataset"
   ]
  },
  {
   "cell_type": "code",
   "execution_count": 83,
   "id": "2f3a3f81",
   "metadata": {},
   "outputs": [],
   "source": [
    "import duckdb\n",
    "import os\n",
    "import sys\n",
    "sys.path.append(os.path.abspath(\"..\"))\n",
    "import utils as u\n",
    "import pandas as pd\n",
    "import matplotlib.pyplot as plt\n",
    "import numpy as np"
   ]
  },
  {
   "cell_type": "code",
   "execution_count": 84,
   "id": "f228f41b",
   "metadata": {},
   "outputs": [],
   "source": [
    "# Set display options for better readability in output\n",
    "pd.set_option(\"display.float_format\", \"{:,.2f}\".format)"
   ]
  },
  {
   "cell_type": "code",
   "execution_count": 85,
   "id": "c75baaeb",
   "metadata": {},
   "outputs": [],
   "source": [
    "blue = \"#0A2F4F\""
   ]
  },
  {
   "cell_type": "markdown",
   "id": "68907a04",
   "metadata": {},
   "source": [
    "## **Data Integration**"
   ]
  },
  {
   "cell_type": "markdown",
   "id": "2c98399a",
   "metadata": {},
   "source": [
    "### **🔹Loading Cleaned CSV Files into DuckDB Tables**"
   ]
  },
  {
   "cell_type": "code",
   "execution_count": 86,
   "id": "a97e9958",
   "metadata": {},
   "outputs": [],
   "source": [
    "# Path to the folder containing cleaned CSV files\n",
    "data_path = \"../data/cleaned\"\n",
    "\n",
    "# Connect to an in-memory DuckDB database\n",
    "con = duckdb.connect(database=\":memory:\")\n",
    "\n",
    "# List of table names to load\n",
    "tables = [\n",
    "    \"customers\",\n",
    "    \"orders\",\n",
    "    \"items\",\n",
    "    \"payments\",\n",
    "    \"reviews\",\n",
    "    \"products\",\n",
    "    \"sellers\",\n",
    "]\n",
    "\n",
    "# Create and load each table from CSV\n",
    "for table in tables:\n",
    "    con.execute(f\"\"\"\n",
    "        CREATE TABLE {table} AS \n",
    "        SELECT * FROM read_csv_auto('{data_path}/{table}.csv');\n",
    "    \"\"\")"
   ]
  },
  {
   "cell_type": "markdown",
   "id": "b34a3807",
   "metadata": {},
   "source": [
    "[🠉 Back to top](#structure-of-the-notebook)"
   ]
  },
  {
   "cell_type": "markdown",
   "id": "760d7154",
   "metadata": {},
   "source": [
    "### **🔹Joining Tables into Order-Level Dataset**"
   ]
  },
  {
   "cell_type": "markdown",
   "id": "b5475977",
   "metadata": {},
   "source": [
    "To understand what drives **customer satisfaction**, we need a dataset that captures the entire customer experience — including products purchased, delivery timing, seller location, payment methods, and reviews.  \n",
    "Since **reviews** are provided **for whole orders** rather than individual products, all features must be aggregated or merged to the **order level** to allow meaningful analysis.\n",
    "\n",
    "To build this dataset, we:\n",
    "\n",
    "- **Join** cleaned transactional tables — `items`, `products`, `sellers`, `orders`, `payments`, `reviews`, and `customers` — to gather all relevant data per order  \n",
    "- **Aggregate** product-level data to the order level (e.g., summing prices, averaging product dimensions)\n",
    "- **Capture variability** in product categories, sellers, and states:  \n",
    "  - Orders with more than one product category are labeled `\"multiple_categories\"`  \n",
    "  - Similarly, `\"multiple_sellers\"` and `\"multiple_states\"` indicate mixed-origin orders  \n",
    "- **Summarize payment behavior** by counting payment records and installments per order  \n",
    "- **Filter** the data to include only **delivered** orders with a **non-null review score**, ensuring we focus only on completed and rated transactions\n",
    "\n",
    "This ensures that **each row corresponds to a unique order** and contains a rich set of features to analyze customer satisfaction drivers."
   ]
  },
  {
   "cell_type": "markdown",
   "id": "e4dc875c",
   "metadata": {},
   "source": [
    "> _Note: Expandable sections (like \"Click to expand\") work best in interactive environments such as Jupyter Lab or VS Code. They may appear fully expanded on GitHub._"
   ]
  },
  {
   "cell_type": "markdown",
   "id": "6e7bed79",
   "metadata": {},
   "source": [
    "<details>\n",
    "<summary><strong>How the Order-Level Dataset Was Built (Click to expand)</strong></summary>\n",
    "\n",
    "\n",
    "**➤ `item_quantities` (Per-Product-Per-Order)**\n",
    "\n",
    "- Combines `items`, `products`, and `sellers` to generate one row per product within each order.\n",
    "- Handles nulls using `COALESCE` to label missing product categories or seller info as `'unknown'`.\n",
    "- Aggregates:\n",
    "  - `COUNT(*)` for number of times a product was purchased (product quantity)\n",
    "  - `SUM(price)` and `SUM(freight_value)`\n",
    "  - `MAX(product_weight_g)` and `MAX(shipping_limit_date)` for key logistics indicators\n",
    "- Pulls product-level features using `AVG()` (later rounded) for:\n",
    "  - `product_name_length`, `product_description_length`\n",
    "  - `product_photos_qty`, `product_length_cm`, `product_height_cm`, `product_width_cm`\n",
    "\n",
    "---\n",
    "\n",
    "**➤ Product and Seller Categorization**\n",
    "\n",
    "**`category_per_order`**\n",
    "- If all items in an order share the same category → keep it.\n",
    "- If there are multiple → label as `'multiple_categories'`.\n",
    "\n",
    "**`seller_state_per_order` and `seller_id_per_order`**\n",
    "- Same logic: return actual seller or state if unique, otherwise label as `'multiple_sellers'` or `'multiple_states'`.\n",
    "\n",
    "**`product_features_per_order`**\n",
    "- Averages and rounds product features at the order level to summarize size, content richness, and complexity of the products in the order.\n",
    "\n",
    "---\n",
    "\n",
    "**➤ `orders_items` (Aggregate Order Metrics)**\n",
    "\n",
    "- Aggregates order content:\n",
    "  - Number of **unique products** and **total quantity**\n",
    "  - **Total price**, **freight**, and **total amount**\n",
    "  - **Total order weight**\n",
    "\n",
    "---\n",
    "\n",
    "**➤ `payments_agg` (Payment Profile)**\n",
    "\n",
    "- Aggregates payment behavior:\n",
    "  - Max installments\n",
    "  - Number of payment records\n",
    "  - Aggregated distinct payment types (as a comma-separated string)\n",
    "\n",
    "---\n",
    "\n",
    "**➤ Final Output**\n",
    "\n",
    "Combines all previous aggregations into a single **order-level** dataset and adds:\n",
    "\n",
    "- Review score and timing info from `reviews`\n",
    "- Actual vs. estimated delivery dates from `orders`\n",
    "- Customer and seller metadata\n",
    "- Product-level feature summaries\n",
    "\n",
    "---\n",
    "\n",
    "**➤ Final Filtering**\n",
    "\n",
    "Only includes:\n",
    "- Orders marked as **'delivered'**\n",
    "- Orders that **have a review score**\n",
    "\n",
    "</details>"
   ]
  },
  {
   "cell_type": "code",
   "execution_count": 87,
   "id": "69611952",
   "metadata": {},
   "outputs": [],
   "source": [
    "# Build Query to Create Order-Level Dataset\n",
    "q_orders = \"\"\"\n",
    "WITH item_quantities AS (\n",
    "  -- Aggregate product and seller info per product in each order\n",
    "  SELECT\n",
    "    i.order_id,\n",
    "    i.product_id,\n",
    "    COALESCE(p.product_category_name_english, 'unknown') AS product_category_name,\n",
    "    COALESCE(s.seller_state, 'unknown') AS seller_state,\n",
    "    COALESCE(s.seller_id, 'unknown') AS seller_id,\n",
    "    COUNT(*) AS product_quantity,\n",
    "    SUM(i.price) AS product_price,\n",
    "    SUM(i.freight_value) AS product_freight,\n",
    "    MAX(p.product_weight_g) AS product_weight_g,\n",
    "    MAX(i.shipping_limit_date) AS shipping_limit_date,\n",
    "    AVG(p.product_name_lenght) AS product_name_length,\n",
    "    AVG(p.product_description_lenght) AS product_description_length,\n",
    "    AVG(p.product_photos_qty) AS product_photos_qty,\n",
    "    AVG(p.product_length_cm) AS product_length_cm,\n",
    "    AVG(p.product_height_cm) AS product_height_cm,\n",
    "    AVG(p.product_width_cm) AS product_width_cm\n",
    "  FROM items AS i\n",
    "  LEFT JOIN products AS p ON i.product_id = p.product_id\n",
    "  LEFT JOIN sellers AS s ON i.seller_id = s.seller_id\n",
    "  GROUP BY i.order_id, i.product_id, s.seller_state, s.seller_id, p.product_category_name_english\n",
    "),\n",
    "\n",
    "-- Collapse product category into a single value per order\n",
    "category_per_order AS (\n",
    "  SELECT\n",
    "    order_id,\n",
    "    CASE \n",
    "      WHEN COUNT(DISTINCT product_category_name) = 1 \n",
    "        THEN MAX(product_category_name)\n",
    "      ELSE 'multiple_categories'\n",
    "    END AS product_category_name\n",
    "  FROM item_quantities\n",
    "  GROUP BY order_id\n",
    "),\n",
    "\n",
    "-- Collapse seller state into a single value per order\n",
    "seller_state_per_order AS (\n",
    "  SELECT\n",
    "    order_id,\n",
    "    CASE \n",
    "      WHEN COUNT(DISTINCT seller_state) = 1 \n",
    "        THEN MAX(seller_state)\n",
    "      ELSE 'multiple_states'\n",
    "    END AS seller_state\n",
    "  FROM item_quantities\n",
    "  GROUP BY order_id\n",
    "),\n",
    "\n",
    "-- Collapse seller ID into a single value per order\n",
    "seller_id_per_order AS (\n",
    "  SELECT\n",
    "    order_id,\n",
    "    CASE \n",
    "      WHEN COUNT(DISTINCT seller_id) = 1 \n",
    "        THEN MAX(seller_id)\n",
    "      ELSE 'multiple_sellers'\n",
    "    END AS seller_id\n",
    "  FROM item_quantities\n",
    "  GROUP BY order_id\n",
    "),\n",
    "\n",
    "-- Collapse product ID into a single value per order\n",
    "product_id_per_order AS (\n",
    "  SELECT\n",
    "    order_id,\n",
    "    CASE \n",
    "      WHEN COUNT(DISTINCT product_id) = 1 \n",
    "        THEN MAX(product_id)\n",
    "      ELSE 'multiple_products'\n",
    "    END AS product_id\n",
    "  FROM item_quantities\n",
    "  GROUP BY order_id\n",
    "),\n",
    "\n",
    "-- Average product-level features across items in the order\n",
    "product_features_per_order AS (\n",
    "  SELECT\n",
    "    order_id,\n",
    "    ROUND(AVG(product_name_length)) AS product_name_length,\n",
    "    ROUND(AVG(product_description_length)) AS product_description_length,\n",
    "    ROUND(AVG(product_photos_qty)) AS product_photos_qty,\n",
    "    ROUND(AVG(product_length_cm)) AS product_length_cm,\n",
    "    ROUND(AVG(product_height_cm)) AS product_height_cm,\n",
    "    ROUND(AVG(product_width_cm)) AS product_width_cm\n",
    "  FROM item_quantities\n",
    "  GROUP BY order_id\n",
    "),\n",
    "\n",
    "-- Aggregate item-level purchase details per order\n",
    "orders_items AS (\n",
    "  SELECT\n",
    "    order_id,\n",
    "    COUNT(DISTINCT product_id) AS num_unique_products,\n",
    "    ROUND(SUM(product_quantity)) AS num_items,\n",
    "    SUM(product_price) AS total_price,\n",
    "    SUM(product_freight) AS total_freight,\n",
    "    SUM(product_price + product_freight) AS total_amount,\n",
    "    SUM(product_quantity * product_weight_g) AS total_order_weight,\n",
    "    MAX(shipping_limit_date) AS shipping_limit_date\n",
    "  FROM item_quantities\n",
    "  GROUP BY order_id\n",
    "),\n",
    "\n",
    "-- Aggregate payment details per order\n",
    "payments_agg AS (\n",
    "  SELECT\n",
    "    order_id,\n",
    "    MAX(payment_installments) AS max_payment_installments,\n",
    "    COUNT(payment_sequential) AS n_payment_records, \n",
    "    STRING_AGG(DISTINCT payment_type, ', ' ORDER BY payment_type) AS payment_types,\n",
    "    COUNT(DISTINCT payment_type) AS n_payment_types\n",
    "  FROM payments\n",
    "  GROUP BY order_id\n",
    ")\n",
    "\n",
    "------ Joined Order-Level Table ------\n",
    "SELECT\n",
    "  oi.order_id,\n",
    "  r.review_score,\n",
    "  pid.product_id,\n",
    "  cat.product_category_name,\n",
    "  oi.num_unique_products,\n",
    "  oi.num_items,\n",
    "  oi.total_price,\n",
    "  oi.total_freight,\n",
    "  oi.total_amount,\n",
    "  oi.total_order_weight,\n",
    "  pf.product_name_length,\n",
    "  pf.product_description_length,\n",
    "  pf.product_photos_qty,\n",
    "  pf.product_length_cm,\n",
    "  pf.product_height_cm,\n",
    "  pf.product_width_cm,\n",
    "  pa.payment_types,\n",
    "  pa.n_payment_types,\n",
    "  pa.max_payment_installments,\n",
    "  pa.n_payment_records,\n",
    "  oi.shipping_limit_date,\n",
    "  o.order_delivered_carrier_date,\n",
    "  o.order_delivered_customer_date,\n",
    "  o.order_estimated_delivery_date,\n",
    "  r.review_creation_date,\n",
    "  r.review_answer_timestamp,\n",
    "  c.customer_unique_id,\n",
    "  c.customer_state,\n",
    "  ssoid.seller_id,\n",
    "  sso.seller_state\n",
    "\n",
    "FROM orders_items AS oi\n",
    "LEFT JOIN orders AS o USING(order_id)\n",
    "LEFT JOIN customers AS c USING(customer_id)\n",
    "LEFT JOIN payments_agg AS pa USING(order_id)\n",
    "LEFT JOIN reviews AS r USING(order_id)\n",
    "LEFT JOIN category_per_order AS cat USING(order_id)\n",
    "LEFT JOIN seller_state_per_order AS sso USING(order_id)\n",
    "LEFT JOIN seller_id_per_order AS ssoid USING(order_id)\n",
    "LEFT JOIN product_features_per_order AS pf USING(order_id)\n",
    "LEFT JOIN product_id_per_order AS pid USING(order_id)\n",
    "\n",
    "-- Filter: only delivered orders with valid review scores\n",
    "WHERE o.order_status = 'delivered' \n",
    "  AND r.review_score IS NOT NULL\n",
    "\n",
    "ORDER BY oi.order_id;\n",
    "\"\"\""
   ]
  },
  {
   "cell_type": "code",
   "execution_count": 88,
   "id": "0606270e",
   "metadata": {},
   "outputs": [
    {
     "name": "stdout",
     "output_type": "stream",
     "text": [
      "Order-level joined table has 94782 rows and 30 columns.\n"
     ]
    },
    {
     "data": {
      "text/html": [
       "<div>\n",
       "<style scoped>\n",
       "    .dataframe tbody tr th:only-of-type {\n",
       "        vertical-align: middle;\n",
       "    }\n",
       "\n",
       "    .dataframe tbody tr th {\n",
       "        vertical-align: top;\n",
       "    }\n",
       "\n",
       "    .dataframe thead th {\n",
       "        text-align: right;\n",
       "    }\n",
       "</style>\n",
       "<table border=\"1\" class=\"dataframe\">\n",
       "  <thead>\n",
       "    <tr style=\"text-align: right;\">\n",
       "      <th></th>\n",
       "      <th>order_id</th>\n",
       "      <th>review_score</th>\n",
       "      <th>product_id</th>\n",
       "      <th>product_category_name</th>\n",
       "      <th>num_unique_products</th>\n",
       "      <th>num_items</th>\n",
       "      <th>total_price</th>\n",
       "      <th>total_freight</th>\n",
       "      <th>total_amount</th>\n",
       "      <th>total_order_weight</th>\n",
       "      <th>...</th>\n",
       "      <th>shipping_limit_date</th>\n",
       "      <th>order_delivered_carrier_date</th>\n",
       "      <th>order_delivered_customer_date</th>\n",
       "      <th>order_estimated_delivery_date</th>\n",
       "      <th>review_creation_date</th>\n",
       "      <th>review_answer_timestamp</th>\n",
       "      <th>customer_unique_id</th>\n",
       "      <th>customer_state</th>\n",
       "      <th>seller_id</th>\n",
       "      <th>seller_state</th>\n",
       "    </tr>\n",
       "  </thead>\n",
       "  <tbody>\n",
       "    <tr>\n",
       "      <th>0</th>\n",
       "      <td>00010242fe8c5a6d1ba2dd792cb16214</td>\n",
       "      <td>5</td>\n",
       "      <td>4244733e06e7ecb4970a6e2683c13e61</td>\n",
       "      <td>cool_stuff</td>\n",
       "      <td>1</td>\n",
       "      <td>1.00</td>\n",
       "      <td>58.90</td>\n",
       "      <td>13.29</td>\n",
       "      <td>72.19</td>\n",
       "      <td>650.00</td>\n",
       "      <td>...</td>\n",
       "      <td>2017-09-19 09:45:35</td>\n",
       "      <td>2017-09-19 18:34:16</td>\n",
       "      <td>2017-09-20 23:43:48</td>\n",
       "      <td>2017-09-29</td>\n",
       "      <td>2017-09-21</td>\n",
       "      <td>2017-09-22 10:57:03</td>\n",
       "      <td>871766c5855e863f6eccc05f988b23cb</td>\n",
       "      <td>RJ</td>\n",
       "      <td>48436dade18ac8b2bce089ec2a041202</td>\n",
       "      <td>SP</td>\n",
       "    </tr>\n",
       "    <tr>\n",
       "      <th>1</th>\n",
       "      <td>00018f77f2f0320c557190d7a144bdd3</td>\n",
       "      <td>4</td>\n",
       "      <td>e5f2d52b802189ee658865ca93d83a8f</td>\n",
       "      <td>pet_shop</td>\n",
       "      <td>1</td>\n",
       "      <td>1.00</td>\n",
       "      <td>239.90</td>\n",
       "      <td>19.93</td>\n",
       "      <td>259.83</td>\n",
       "      <td>30,000.00</td>\n",
       "      <td>...</td>\n",
       "      <td>2017-05-03 11:05:13</td>\n",
       "      <td>2017-05-04 14:35:00</td>\n",
       "      <td>2017-05-12 16:04:24</td>\n",
       "      <td>2017-05-15</td>\n",
       "      <td>2017-05-13</td>\n",
       "      <td>2017-05-15 11:34:13</td>\n",
       "      <td>eb28e67c4c0b83846050ddfb8a35d051</td>\n",
       "      <td>SP</td>\n",
       "      <td>dd7ddc04e1b6c2c614352b383efe2d36</td>\n",
       "      <td>SP</td>\n",
       "    </tr>\n",
       "    <tr>\n",
       "      <th>2</th>\n",
       "      <td>000229ec398224ef6ca0657da4fc703e</td>\n",
       "      <td>5</td>\n",
       "      <td>c777355d18b72b67abbeef9df44fd0fd</td>\n",
       "      <td>furniture_decor</td>\n",
       "      <td>1</td>\n",
       "      <td>1.00</td>\n",
       "      <td>199.00</td>\n",
       "      <td>17.87</td>\n",
       "      <td>216.87</td>\n",
       "      <td>3,050.00</td>\n",
       "      <td>...</td>\n",
       "      <td>2018-01-18 14:48:30</td>\n",
       "      <td>2018-01-16 12:36:48</td>\n",
       "      <td>2018-01-22 13:19:16</td>\n",
       "      <td>2018-02-05</td>\n",
       "      <td>2018-01-23</td>\n",
       "      <td>2018-01-23 16:06:31</td>\n",
       "      <td>3818d81c6709e39d06b2738a8d3a2474</td>\n",
       "      <td>MG</td>\n",
       "      <td>5b51032eddd242adc84c38acab88f23d</td>\n",
       "      <td>MG</td>\n",
       "    </tr>\n",
       "    <tr>\n",
       "      <th>3</th>\n",
       "      <td>00024acbcdf0a6daa1e931b038114c75</td>\n",
       "      <td>4</td>\n",
       "      <td>7634da152a4610f1595efa32f14722fc</td>\n",
       "      <td>perfumery</td>\n",
       "      <td>1</td>\n",
       "      <td>1.00</td>\n",
       "      <td>12.99</td>\n",
       "      <td>12.79</td>\n",
       "      <td>25.78</td>\n",
       "      <td>200.00</td>\n",
       "      <td>...</td>\n",
       "      <td>2018-08-15 10:10:18</td>\n",
       "      <td>2018-08-10 13:28:00</td>\n",
       "      <td>2018-08-14 13:32:39</td>\n",
       "      <td>2018-08-20</td>\n",
       "      <td>2018-08-15</td>\n",
       "      <td>2018-08-15 16:39:01</td>\n",
       "      <td>af861d436cfc08b2c2ddefd0ba074622</td>\n",
       "      <td>SP</td>\n",
       "      <td>9d7a1d34a5052409006425275ba1c2b4</td>\n",
       "      <td>SP</td>\n",
       "    </tr>\n",
       "    <tr>\n",
       "      <th>4</th>\n",
       "      <td>00042b26cf59d7ce69dfabb4e55b4fd9</td>\n",
       "      <td>5</td>\n",
       "      <td>ac6c3623068f30de03045865e4e10089</td>\n",
       "      <td>garden_tools</td>\n",
       "      <td>1</td>\n",
       "      <td>1.00</td>\n",
       "      <td>199.90</td>\n",
       "      <td>18.14</td>\n",
       "      <td>218.04</td>\n",
       "      <td>3,750.00</td>\n",
       "      <td>...</td>\n",
       "      <td>2017-02-13 13:57:51</td>\n",
       "      <td>2017-02-16 09:46:09</td>\n",
       "      <td>2017-03-01 16:42:31</td>\n",
       "      <td>2017-03-17</td>\n",
       "      <td>2017-03-02</td>\n",
       "      <td>2017-03-03 10:54:59</td>\n",
       "      <td>64b576fb70d441e8f1b2d7d446e483c5</td>\n",
       "      <td>SP</td>\n",
       "      <td>df560393f3a51e74553ab94004ba5c87</td>\n",
       "      <td>PR</td>\n",
       "    </tr>\n",
       "  </tbody>\n",
       "</table>\n",
       "<p>5 rows × 30 columns</p>\n",
       "</div>"
      ],
      "text/plain": [
       "                           order_id  review_score  \\\n",
       "0  00010242fe8c5a6d1ba2dd792cb16214             5   \n",
       "1  00018f77f2f0320c557190d7a144bdd3             4   \n",
       "2  000229ec398224ef6ca0657da4fc703e             5   \n",
       "3  00024acbcdf0a6daa1e931b038114c75             4   \n",
       "4  00042b26cf59d7ce69dfabb4e55b4fd9             5   \n",
       "\n",
       "                         product_id product_category_name  \\\n",
       "0  4244733e06e7ecb4970a6e2683c13e61            cool_stuff   \n",
       "1  e5f2d52b802189ee658865ca93d83a8f              pet_shop   \n",
       "2  c777355d18b72b67abbeef9df44fd0fd       furniture_decor   \n",
       "3  7634da152a4610f1595efa32f14722fc             perfumery   \n",
       "4  ac6c3623068f30de03045865e4e10089          garden_tools   \n",
       "\n",
       "   num_unique_products  num_items  total_price  total_freight  total_amount  \\\n",
       "0                    1       1.00        58.90          13.29         72.19   \n",
       "1                    1       1.00       239.90          19.93        259.83   \n",
       "2                    1       1.00       199.00          17.87        216.87   \n",
       "3                    1       1.00        12.99          12.79         25.78   \n",
       "4                    1       1.00       199.90          18.14        218.04   \n",
       "\n",
       "   total_order_weight  ...  shipping_limit_date  order_delivered_carrier_date  \\\n",
       "0              650.00  ...  2017-09-19 09:45:35           2017-09-19 18:34:16   \n",
       "1           30,000.00  ...  2017-05-03 11:05:13           2017-05-04 14:35:00   \n",
       "2            3,050.00  ...  2018-01-18 14:48:30           2018-01-16 12:36:48   \n",
       "3              200.00  ...  2018-08-15 10:10:18           2018-08-10 13:28:00   \n",
       "4            3,750.00  ...  2017-02-13 13:57:51           2017-02-16 09:46:09   \n",
       "\n",
       "   order_delivered_customer_date  order_estimated_delivery_date  \\\n",
       "0            2017-09-20 23:43:48                     2017-09-29   \n",
       "1            2017-05-12 16:04:24                     2017-05-15   \n",
       "2            2018-01-22 13:19:16                     2018-02-05   \n",
       "3            2018-08-14 13:32:39                     2018-08-20   \n",
       "4            2017-03-01 16:42:31                     2017-03-17   \n",
       "\n",
       "   review_creation_date  review_answer_timestamp  \\\n",
       "0            2017-09-21      2017-09-22 10:57:03   \n",
       "1            2017-05-13      2017-05-15 11:34:13   \n",
       "2            2018-01-23      2018-01-23 16:06:31   \n",
       "3            2018-08-15      2018-08-15 16:39:01   \n",
       "4            2017-03-02      2017-03-03 10:54:59   \n",
       "\n",
       "                 customer_unique_id  customer_state  \\\n",
       "0  871766c5855e863f6eccc05f988b23cb              RJ   \n",
       "1  eb28e67c4c0b83846050ddfb8a35d051              SP   \n",
       "2  3818d81c6709e39d06b2738a8d3a2474              MG   \n",
       "3  af861d436cfc08b2c2ddefd0ba074622              SP   \n",
       "4  64b576fb70d441e8f1b2d7d446e483c5              SP   \n",
       "\n",
       "                          seller_id  seller_state  \n",
       "0  48436dade18ac8b2bce089ec2a041202            SP  \n",
       "1  dd7ddc04e1b6c2c614352b383efe2d36            SP  \n",
       "2  5b51032eddd242adc84c38acab88f23d            MG  \n",
       "3  9d7a1d34a5052409006425275ba1c2b4            SP  \n",
       "4  df560393f3a51e74553ab94004ba5c87            PR  \n",
       "\n",
       "[5 rows x 30 columns]"
      ]
     },
     "execution_count": 88,
     "metadata": {},
     "output_type": "execute_result"
    }
   ],
   "source": [
    "# Execute the final SQL query and convert the result to a pandas DataFrame\n",
    "df_orders_raw = con.execute(q_orders).df()\n",
    "\n",
    "# Show shape of the resulting dataset\n",
    "print(\n",
    "    f\"Order-level joined table has {df_orders_raw.shape[0]} rows and {df_orders_raw.shape[1]} columns.\"\n",
    ")\n",
    "\n",
    "# Preview the first few rows\n",
    "df_orders_raw.head()"
   ]
  },
  {
   "cell_type": "code",
   "execution_count": 89,
   "id": "a58fed45",
   "metadata": {},
   "outputs": [],
   "source": [
    "# Close the DuckDB connection\n",
    "con.close()"
   ]
  },
  {
   "cell_type": "markdown",
   "id": "fcb3fd6b",
   "metadata": {},
   "source": [
    "[🠉 Back to top](#structure-of-the-notebook)"
   ]
  },
  {
   "cell_type": "markdown",
   "id": "d408e4a6",
   "metadata": {},
   "source": [
    "## **Post-Merge Cleaning**"
   ]
  },
  {
   "cell_type": "markdown",
   "id": "89213c80",
   "metadata": {},
   "source": [
    "To ensure the original dataset remains unchanged, we create a copy before performing any cleaning operations."
   ]
  },
  {
   "cell_type": "code",
   "execution_count": 90,
   "id": "ec75b48d",
   "metadata": {},
   "outputs": [],
   "source": [
    "# Create a copy of the raw joined DataFrame\n",
    "df_orders = df_orders_raw.copy()"
   ]
  },
  {
   "cell_type": "markdown",
   "id": "83c42992",
   "metadata": {},
   "source": [
    "To keep the output readable and focused throughout the notebook, we define thematic column groups that are most relevant for analysis and anomaly detection. These groups make it easier to tailor displays depending on the context:\n",
    "\n",
    "- `main_columns_basic`: essential identifiers and financial totals  \n",
    "- `main_columns_product`: product-level attributes  \n",
    "- `main_columns_payment`: payment-related columns  \n",
    "- `main_columns_delivery`: delivery timing information  \n",
    "\n",
    "These groups are then combined into a single `main_columns` list, which is used consistently when displaying samples of the dataset — for example, during missing value inspection or when exploring suspicious values."
   ]
  },
  {
   "cell_type": "code",
   "execution_count": 91,
   "id": "23d269d9",
   "metadata": {},
   "outputs": [
    {
     "data": {
      "text/plain": [
       "Index(['order_id', 'review_score', 'product_id', 'product_category_name',\n",
       "       'num_unique_products', 'num_items', 'total_price', 'total_freight',\n",
       "       'total_amount', 'total_order_weight', 'product_name_length',\n",
       "       'product_description_length', 'product_photos_qty', 'product_length_cm',\n",
       "       'product_height_cm', 'product_width_cm', 'payment_types',\n",
       "       'n_payment_types', 'max_payment_installments', 'n_payment_records',\n",
       "       'shipping_limit_date', 'order_delivered_carrier_date',\n",
       "       'order_delivered_customer_date', 'order_estimated_delivery_date',\n",
       "       'review_creation_date', 'review_answer_timestamp', 'customer_unique_id',\n",
       "       'customer_state', 'seller_id', 'seller_state'],\n",
       "      dtype='object')"
      ]
     },
     "execution_count": 91,
     "metadata": {},
     "output_type": "execute_result"
    }
   ],
   "source": [
    "# Display all column names for reference\n",
    "df_orders.columns"
   ]
  },
  {
   "cell_type": "code",
   "execution_count": 92,
   "id": "46bfd56c",
   "metadata": {},
   "outputs": [],
   "source": [
    "# Define key columns for display and inspection\n",
    "main_columns_basic = [\n",
    "    \"order_id\",\n",
    "    \"review_score\",\n",
    "    \"product_id\",\n",
    "    \"product_category_name\",\n",
    "    \"num_items\",\n",
    "    \"total_price\",\n",
    "    \"total_freight\",\n",
    "    \"total_amount\",\n",
    "]\n",
    "main_columns_product = [\n",
    "    \"total_order_weight\",\n",
    "    \"product_name_length\",\n",
    "    \"product_description_length\",\n",
    "    \"product_photos_qty\",\n",
    "    \"product_length_cm\",\n",
    "    \"product_height_cm\",\n",
    "    \"product_width_cm\",\n",
    "]\n",
    "main_columns_payment = [\n",
    "    \"payment_types\",\n",
    "    \"n_payment_types\",\n",
    "    \"max_payment_installments\",\n",
    "    \"n_payment_records\",\n",
    "]\n",
    "main_columns_delivery = [\n",
    "    \"shipping_limit_date\",\n",
    "    \"order_delivered_carrier_date\",\n",
    "    \"order_delivered_customer_date\",\n",
    "    'order_estimated_delivery_date',\n",
    "]\n",
    "\n",
    "# Combine columns groups into one list\n",
    "main_columns = (main_columns_basic + main_columns_product + main_columns_payment + main_columns_delivery)"
   ]
  },
  {
   "cell_type": "markdown",
   "id": "b917cdfd",
   "metadata": {},
   "source": [
    "[🠉 Back to top](#structure-of-the-notebook)"
   ]
  },
  {
   "cell_type": "markdown",
   "id": "27ea93da",
   "metadata": {},
   "source": [
    "### **🔹 Initial Inspection of Joined Dataset**"
   ]
  },
  {
   "cell_type": "markdown",
   "id": "0c52b3e6",
   "metadata": {},
   "source": [
    "After joining the individual tables into an order-level dataset, we inspected  the structure and completeness of the resulting DataFrame."
   ]
  },
  {
   "cell_type": "markdown",
   "id": "62935cad",
   "metadata": {},
   "source": [
    "#### ➤ Dataset Structure"
   ]
  },
  {
   "cell_type": "code",
   "execution_count": 93,
   "id": "b77f3a7e",
   "metadata": {},
   "outputs": [
    {
     "data": {
      "text/html": [
       "<div>\n",
       "<style scoped>\n",
       "    .dataframe tbody tr th:only-of-type {\n",
       "        vertical-align: middle;\n",
       "    }\n",
       "\n",
       "    .dataframe tbody tr th {\n",
       "        vertical-align: top;\n",
       "    }\n",
       "\n",
       "    .dataframe thead th {\n",
       "        text-align: right;\n",
       "    }\n",
       "</style>\n",
       "<table border=\"1\" class=\"dataframe\">\n",
       "  <thead>\n",
       "    <tr style=\"text-align: right;\">\n",
       "      <th></th>\n",
       "      <th>name</th>\n",
       "      <th>rows</th>\n",
       "      <th>columns</th>\n",
       "      <th>column_names</th>\n",
       "      <th>duplicates</th>\n",
       "    </tr>\n",
       "  </thead>\n",
       "  <tbody>\n",
       "    <tr>\n",
       "      <th>0</th>\n",
       "      <td>df</td>\n",
       "      <td>94782</td>\n",
       "      <td>30</td>\n",
       "      <td>[order_id, review_score, product_id, product_c...</td>\n",
       "      <td>0</td>\n",
       "    </tr>\n",
       "  </tbody>\n",
       "</table>\n",
       "</div>"
      ],
      "text/plain": [
       "  name   rows  columns                                       column_names  \\\n",
       "0   df  94782       30  [order_id, review_score, product_id, product_c...   \n",
       "\n",
       "   duplicates  \n",
       "0           0  "
      ]
     },
     "execution_count": 93,
     "metadata": {},
     "output_type": "execute_result"
    }
   ],
   "source": [
    "# Display the summary of the DataFrame\n",
    "u.summarize_table_shapes(df_orders)"
   ]
  },
  {
   "cell_type": "markdown",
   "id": "fd91d40d",
   "metadata": {},
   "source": [
    "The joined order-level dataset contains **94,782 rows** and **30 columns**.  \n",
    "Importantly, there are **no duplicate rows**, ensuring the integrity of each order record in the final dataset."
   ]
  },
  {
   "cell_type": "markdown",
   "id": "cb95b5c4",
   "metadata": {},
   "source": [
    "#### ➤ Column-wise Overview\n",
    "\n",
    "To better understand the dataset's composition, we now inspect the column-level properties such as data types, missing values, and number of unique entries"
   ]
  },
  {
   "cell_type": "code",
   "execution_count": 94,
   "id": "c38e5f20",
   "metadata": {},
   "outputs": [
    {
     "name": "stdout",
     "output_type": "stream",
     "text": [
      "Df:\n"
     ]
    },
    {
     "data": {
      "text/html": [
       "<div>\n",
       "<style scoped>\n",
       "    .dataframe tbody tr th:only-of-type {\n",
       "        vertical-align: middle;\n",
       "    }\n",
       "\n",
       "    .dataframe tbody tr th {\n",
       "        vertical-align: top;\n",
       "    }\n",
       "\n",
       "    .dataframe thead th {\n",
       "        text-align: right;\n",
       "    }\n",
       "</style>\n",
       "<table border=\"1\" class=\"dataframe\">\n",
       "  <thead>\n",
       "    <tr style=\"text-align: right;\">\n",
       "      <th></th>\n",
       "      <th>dtype</th>\n",
       "      <th>non_null</th>\n",
       "      <th>missing_n</th>\n",
       "      <th>missing_%</th>\n",
       "      <th>uniques_n</th>\n",
       "      <th>uniques</th>\n",
       "    </tr>\n",
       "  </thead>\n",
       "  <tbody>\n",
       "    <tr>\n",
       "      <th>order_id</th>\n",
       "      <td>object</td>\n",
       "      <td>94782</td>\n",
       "      <td>0</td>\n",
       "      <td>0.00</td>\n",
       "      <td>94782</td>\n",
       "      <td>[00010242fe8c5a6d1ba2dd792cb16214, 00018f77f2f...</td>\n",
       "    </tr>\n",
       "    <tr>\n",
       "      <th>review_score</th>\n",
       "      <td>int64</td>\n",
       "      <td>94782</td>\n",
       "      <td>0</td>\n",
       "      <td>0.00</td>\n",
       "      <td>5</td>\n",
       "      <td>[5, 4, 1, 3, 2]</td>\n",
       "    </tr>\n",
       "    <tr>\n",
       "      <th>product_id</th>\n",
       "      <td>object</td>\n",
       "      <td>94782</td>\n",
       "      <td>0</td>\n",
       "      <td>0.00</td>\n",
       "      <td>29848</td>\n",
       "      <td>[4244733e06e7ecb4970a6e2683c13e61, e5f2d52b802...</td>\n",
       "    </tr>\n",
       "    <tr>\n",
       "      <th>product_category_name</th>\n",
       "      <td>object</td>\n",
       "      <td>94782</td>\n",
       "      <td>0</td>\n",
       "      <td>0.00</td>\n",
       "      <td>75</td>\n",
       "      <td>[cool_stuff, pet_shop, furniture_decor, perfum...</td>\n",
       "    </tr>\n",
       "    <tr>\n",
       "      <th>num_unique_products</th>\n",
       "      <td>int64</td>\n",
       "      <td>94782</td>\n",
       "      <td>0</td>\n",
       "      <td>0.00</td>\n",
       "      <td>8</td>\n",
       "      <td>[1, 2, 4, 3, 5, 6, 7, 8]</td>\n",
       "    </tr>\n",
       "    <tr>\n",
       "      <th>num_items</th>\n",
       "      <td>float64</td>\n",
       "      <td>94782</td>\n",
       "      <td>0</td>\n",
       "      <td>0.00</td>\n",
       "      <td>17</td>\n",
       "      <td>[1.0, 2.0, 3.0, 4.0, 5.0, 6.0, 8.0, 7.0, 20.0,...</td>\n",
       "    </tr>\n",
       "    <tr>\n",
       "      <th>total_price</th>\n",
       "      <td>float64</td>\n",
       "      <td>94782</td>\n",
       "      <td>0</td>\n",
       "      <td>0.00</td>\n",
       "      <td>7538</td>\n",
       "      <td>[58.9, 239.9, 199.0, 12.99, 199.9, 21.9, 19.9,...</td>\n",
       "    </tr>\n",
       "    <tr>\n",
       "      <th>total_freight</th>\n",
       "      <td>float64</td>\n",
       "      <td>94782</td>\n",
       "      <td>0</td>\n",
       "      <td>0.00</td>\n",
       "      <td>7831</td>\n",
       "      <td>[13.29, 19.93, 17.87, 12.79, 18.14, 12.69, 11....</td>\n",
       "    </tr>\n",
       "    <tr>\n",
       "      <th>total_amount</th>\n",
       "      <td>float64</td>\n",
       "      <td>94782</td>\n",
       "      <td>0</td>\n",
       "      <td>0.00</td>\n",
       "      <td>30320</td>\n",
       "      <td>[72.19, 259.83, 216.87, 25.78, 218.04000000000...</td>\n",
       "    </tr>\n",
       "    <tr>\n",
       "      <th>total_order_weight</th>\n",
       "      <td>float64</td>\n",
       "      <td>93471</td>\n",
       "      <td>1311</td>\n",
       "      <td>1.38</td>\n",
       "      <td>2827</td>\n",
       "      <td>[650.0, 30000.0, 3050.0, 200.0, 3750.0, 450.0,...</td>\n",
       "    </tr>\n",
       "    <tr>\n",
       "      <th>product_name_length</th>\n",
       "      <td>float64</td>\n",
       "      <td>93471</td>\n",
       "      <td>1311</td>\n",
       "      <td>1.38</td>\n",
       "      <td>65</td>\n",
       "      <td>[58.0, 56.0, 59.0, 42.0, 36.0, 52.0, 39.0, 57....</td>\n",
       "    </tr>\n",
       "    <tr>\n",
       "      <th>product_description_length</th>\n",
       "      <td>float64</td>\n",
       "      <td>93471</td>\n",
       "      <td>1311</td>\n",
       "      <td>1.38</td>\n",
       "      <td>2940</td>\n",
       "      <td>[598.0, 239.0, 695.0, 480.0, 409.0, 558.0, 815...</td>\n",
       "    </tr>\n",
       "    <tr>\n",
       "      <th>product_photos_qty</th>\n",
       "      <td>float64</td>\n",
       "      <td>93471</td>\n",
       "      <td>1311</td>\n",
       "      <td>1.38</td>\n",
       "      <td>19</td>\n",
       "      <td>[4.0, 2.0, 1.0, 3.0, 5.0, 8.0, 7.0, 9.0, 6.0, ...</td>\n",
       "    </tr>\n",
       "    <tr>\n",
       "      <th>product_length_cm</th>\n",
       "      <td>float64</td>\n",
       "      <td>93471</td>\n",
       "      <td>1311</td>\n",
       "      <td>1.38</td>\n",
       "      <td>99</td>\n",
       "      <td>[28.0, 50.0, 33.0, 16.0, 35.0, 24.0, 27.0, 30....</td>\n",
       "    </tr>\n",
       "    <tr>\n",
       "      <th>product_height_cm</th>\n",
       "      <td>float64</td>\n",
       "      <td>93471</td>\n",
       "      <td>1311</td>\n",
       "      <td>1.38</td>\n",
       "      <td>102</td>\n",
       "      <td>[9.0, 30.0, 13.0, 10.0, 40.0, 8.0, 5.0, 75.0, ...</td>\n",
       "    </tr>\n",
       "    <tr>\n",
       "      <th>product_width_cm</th>\n",
       "      <td>float64</td>\n",
       "      <td>93471</td>\n",
       "      <td>1311</td>\n",
       "      <td>1.38</td>\n",
       "      <td>94</td>\n",
       "      <td>[14.0, 40.0, 33.0, 15.0, 30.0, 20.0, 45.0, 16....</td>\n",
       "    </tr>\n",
       "    <tr>\n",
       "      <th>payment_types</th>\n",
       "      <td>object</td>\n",
       "      <td>94781</td>\n",
       "      <td>1</td>\n",
       "      <td>0.00</td>\n",
       "      <td>5</td>\n",
       "      <td>[credit_card, boleto, credit_card, voucher, de...</td>\n",
       "    </tr>\n",
       "    <tr>\n",
       "      <th>n_payment_types</th>\n",
       "      <td>Int64</td>\n",
       "      <td>94781</td>\n",
       "      <td>1</td>\n",
       "      <td>0.00</td>\n",
       "      <td>2</td>\n",
       "      <td>[1, 2, &lt;NA&gt;]</td>\n",
       "    </tr>\n",
       "    <tr>\n",
       "      <th>max_payment_installments</th>\n",
       "      <td>Int64</td>\n",
       "      <td>94781</td>\n",
       "      <td>1</td>\n",
       "      <td>0.00</td>\n",
       "      <td>24</td>\n",
       "      <td>[2, 3, 5, 1, 10, 4, 6, 7, 9, 8, 15, 12, 18, 13...</td>\n",
       "    </tr>\n",
       "    <tr>\n",
       "      <th>n_payment_records</th>\n",
       "      <td>Int64</td>\n",
       "      <td>94781</td>\n",
       "      <td>1</td>\n",
       "      <td>0.00</td>\n",
       "      <td>19</td>\n",
       "      <td>[1, 2, 6, 3, 7, 4, 5, 11, 12, 10, 15, 8, 9, 22...</td>\n",
       "    </tr>\n",
       "    <tr>\n",
       "      <th>shipping_limit_date</th>\n",
       "      <td>datetime64[us]</td>\n",
       "      <td>94782</td>\n",
       "      <td>0</td>\n",
       "      <td>0.00</td>\n",
       "      <td>89511</td>\n",
       "      <td>[2017-09-19 09:45:35, 2017-05-03 11:05:13, 201...</td>\n",
       "    </tr>\n",
       "    <tr>\n",
       "      <th>order_delivered_carrier_date</th>\n",
       "      <td>datetime64[us]</td>\n",
       "      <td>94780</td>\n",
       "      <td>2</td>\n",
       "      <td>0.00</td>\n",
       "      <td>78764</td>\n",
       "      <td>[2017-09-19 18:34:16, 2017-05-04 14:35:00, 201...</td>\n",
       "    </tr>\n",
       "    <tr>\n",
       "      <th>order_delivered_customer_date</th>\n",
       "      <td>datetime64[us]</td>\n",
       "      <td>94774</td>\n",
       "      <td>8</td>\n",
       "      <td>0.01</td>\n",
       "      <td>93985</td>\n",
       "      <td>[2017-09-20 23:43:48, 2017-05-12 16:04:24, 201...</td>\n",
       "    </tr>\n",
       "    <tr>\n",
       "      <th>order_estimated_delivery_date</th>\n",
       "      <td>datetime64[us]</td>\n",
       "      <td>94782</td>\n",
       "      <td>0</td>\n",
       "      <td>0.00</td>\n",
       "      <td>445</td>\n",
       "      <td>[2017-09-29 00:00:00, 2017-05-15 00:00:00, 201...</td>\n",
       "    </tr>\n",
       "    <tr>\n",
       "      <th>review_creation_date</th>\n",
       "      <td>datetime64[us]</td>\n",
       "      <td>94782</td>\n",
       "      <td>0</td>\n",
       "      <td>0.00</td>\n",
       "      <td>627</td>\n",
       "      <td>[2017-09-21 00:00:00, 2017-05-13 00:00:00, 201...</td>\n",
       "    </tr>\n",
       "    <tr>\n",
       "      <th>review_answer_timestamp</th>\n",
       "      <td>datetime64[us]</td>\n",
       "      <td>94782</td>\n",
       "      <td>0</td>\n",
       "      <td>0.00</td>\n",
       "      <td>94631</td>\n",
       "      <td>[2017-09-22 10:57:03, 2017-05-15 11:34:13, 201...</td>\n",
       "    </tr>\n",
       "    <tr>\n",
       "      <th>customer_unique_id</th>\n",
       "      <td>object</td>\n",
       "      <td>94782</td>\n",
       "      <td>0</td>\n",
       "      <td>0.00</td>\n",
       "      <td>92360</td>\n",
       "      <td>[871766c5855e863f6eccc05f988b23cb, eb28e67c4c0...</td>\n",
       "    </tr>\n",
       "    <tr>\n",
       "      <th>customer_state</th>\n",
       "      <td>object</td>\n",
       "      <td>94782</td>\n",
       "      <td>0</td>\n",
       "      <td>0.00</td>\n",
       "      <td>27</td>\n",
       "      <td>[RJ, SP, MG, PR, GO, BA, AL, MS, CE, DF, RS, P...</td>\n",
       "    </tr>\n",
       "    <tr>\n",
       "      <th>seller_id</th>\n",
       "      <td>object</td>\n",
       "      <td>94782</td>\n",
       "      <td>0</td>\n",
       "      <td>0.00</td>\n",
       "      <td>2938</td>\n",
       "      <td>[48436dade18ac8b2bce089ec2a041202, dd7ddc04e1b...</td>\n",
       "    </tr>\n",
       "    <tr>\n",
       "      <th>seller_state</th>\n",
       "      <td>object</td>\n",
       "      <td>94782</td>\n",
       "      <td>0</td>\n",
       "      <td>0.00</td>\n",
       "      <td>23</td>\n",
       "      <td>[SP, MG, PR, SC, DF, RS, multiple_states, RJ, ...</td>\n",
       "    </tr>\n",
       "  </tbody>\n",
       "</table>\n",
       "</div>"
      ],
      "text/plain": [
       "                                        dtype  non_null  missing_n  missing_%  \\\n",
       "order_id                               object     94782          0       0.00   \n",
       "review_score                            int64     94782          0       0.00   \n",
       "product_id                             object     94782          0       0.00   \n",
       "product_category_name                  object     94782          0       0.00   \n",
       "num_unique_products                     int64     94782          0       0.00   \n",
       "num_items                             float64     94782          0       0.00   \n",
       "total_price                           float64     94782          0       0.00   \n",
       "total_freight                         float64     94782          0       0.00   \n",
       "total_amount                          float64     94782          0       0.00   \n",
       "total_order_weight                    float64     93471       1311       1.38   \n",
       "product_name_length                   float64     93471       1311       1.38   \n",
       "product_description_length            float64     93471       1311       1.38   \n",
       "product_photos_qty                    float64     93471       1311       1.38   \n",
       "product_length_cm                     float64     93471       1311       1.38   \n",
       "product_height_cm                     float64     93471       1311       1.38   \n",
       "product_width_cm                      float64     93471       1311       1.38   \n",
       "payment_types                          object     94781          1       0.00   \n",
       "n_payment_types                         Int64     94781          1       0.00   \n",
       "max_payment_installments                Int64     94781          1       0.00   \n",
       "n_payment_records                       Int64     94781          1       0.00   \n",
       "shipping_limit_date            datetime64[us]     94782          0       0.00   \n",
       "order_delivered_carrier_date   datetime64[us]     94780          2       0.00   \n",
       "order_delivered_customer_date  datetime64[us]     94774          8       0.01   \n",
       "order_estimated_delivery_date  datetime64[us]     94782          0       0.00   \n",
       "review_creation_date           datetime64[us]     94782          0       0.00   \n",
       "review_answer_timestamp        datetime64[us]     94782          0       0.00   \n",
       "customer_unique_id                     object     94782          0       0.00   \n",
       "customer_state                         object     94782          0       0.00   \n",
       "seller_id                              object     94782          0       0.00   \n",
       "seller_state                           object     94782          0       0.00   \n",
       "\n",
       "                               uniques_n  \\\n",
       "order_id                           94782   \n",
       "review_score                           5   \n",
       "product_id                         29848   \n",
       "product_category_name                 75   \n",
       "num_unique_products                    8   \n",
       "num_items                             17   \n",
       "total_price                         7538   \n",
       "total_freight                       7831   \n",
       "total_amount                       30320   \n",
       "total_order_weight                  2827   \n",
       "product_name_length                   65   \n",
       "product_description_length          2940   \n",
       "product_photos_qty                    19   \n",
       "product_length_cm                     99   \n",
       "product_height_cm                    102   \n",
       "product_width_cm                      94   \n",
       "payment_types                          5   \n",
       "n_payment_types                        2   \n",
       "max_payment_installments              24   \n",
       "n_payment_records                     19   \n",
       "shipping_limit_date                89511   \n",
       "order_delivered_carrier_date       78764   \n",
       "order_delivered_customer_date      93985   \n",
       "order_estimated_delivery_date        445   \n",
       "review_creation_date                 627   \n",
       "review_answer_timestamp            94631   \n",
       "customer_unique_id                 92360   \n",
       "customer_state                        27   \n",
       "seller_id                           2938   \n",
       "seller_state                          23   \n",
       "\n",
       "                                                                         uniques  \n",
       "order_id                       [00010242fe8c5a6d1ba2dd792cb16214, 00018f77f2f...  \n",
       "review_score                                                     [5, 4, 1, 3, 2]  \n",
       "product_id                     [4244733e06e7ecb4970a6e2683c13e61, e5f2d52b802...  \n",
       "product_category_name          [cool_stuff, pet_shop, furniture_decor, perfum...  \n",
       "num_unique_products                                     [1, 2, 4, 3, 5, 6, 7, 8]  \n",
       "num_items                      [1.0, 2.0, 3.0, 4.0, 5.0, 6.0, 8.0, 7.0, 20.0,...  \n",
       "total_price                    [58.9, 239.9, 199.0, 12.99, 199.9, 21.9, 19.9,...  \n",
       "total_freight                  [13.29, 19.93, 17.87, 12.79, 18.14, 12.69, 11....  \n",
       "total_amount                   [72.19, 259.83, 216.87, 25.78, 218.04000000000...  \n",
       "total_order_weight             [650.0, 30000.0, 3050.0, 200.0, 3750.0, 450.0,...  \n",
       "product_name_length            [58.0, 56.0, 59.0, 42.0, 36.0, 52.0, 39.0, 57....  \n",
       "product_description_length     [598.0, 239.0, 695.0, 480.0, 409.0, 558.0, 815...  \n",
       "product_photos_qty             [4.0, 2.0, 1.0, 3.0, 5.0, 8.0, 7.0, 9.0, 6.0, ...  \n",
       "product_length_cm              [28.0, 50.0, 33.0, 16.0, 35.0, 24.0, 27.0, 30....  \n",
       "product_height_cm              [9.0, 30.0, 13.0, 10.0, 40.0, 8.0, 5.0, 75.0, ...  \n",
       "product_width_cm               [14.0, 40.0, 33.0, 15.0, 30.0, 20.0, 45.0, 16....  \n",
       "payment_types                  [credit_card, boleto, credit_card, voucher, de...  \n",
       "n_payment_types                                                     [1, 2, <NA>]  \n",
       "max_payment_installments       [2, 3, 5, 1, 10, 4, 6, 7, 9, 8, 15, 12, 18, 13...  \n",
       "n_payment_records              [1, 2, 6, 3, 7, 4, 5, 11, 12, 10, 15, 8, 9, 22...  \n",
       "shipping_limit_date            [2017-09-19 09:45:35, 2017-05-03 11:05:13, 201...  \n",
       "order_delivered_carrier_date   [2017-09-19 18:34:16, 2017-05-04 14:35:00, 201...  \n",
       "order_delivered_customer_date  [2017-09-20 23:43:48, 2017-05-12 16:04:24, 201...  \n",
       "order_estimated_delivery_date  [2017-09-29 00:00:00, 2017-05-15 00:00:00, 201...  \n",
       "review_creation_date           [2017-09-21 00:00:00, 2017-05-13 00:00:00, 201...  \n",
       "review_answer_timestamp        [2017-09-22 10:57:03, 2017-05-15 11:34:13, 201...  \n",
       "customer_unique_id             [871766c5855e863f6eccc05f988b23cb, eb28e67c4c0...  \n",
       "customer_state                 [RJ, SP, MG, PR, GO, BA, AL, MS, CE, DF, RS, P...  \n",
       "seller_id                      [48436dade18ac8b2bce089ec2a041202, dd7ddc04e1b...  \n",
       "seller_state                   [SP, MG, PR, SC, DF, RS, multiple_states, RJ, ...  "
      ]
     },
     "metadata": {},
     "output_type": "display_data"
    },
    {
     "name": "stdout",
     "output_type": "stream",
     "text": [
      "----------------------------------------------------------------------------------------------------------------------------------\n"
     ]
    }
   ],
   "source": [
    "# Quick overview of column properties (dtypes, missing values, uniques)\n",
    "u.column_overview(df_orders)"
   ]
  },
  {
   "cell_type": "markdown",
   "id": "34d7bac4",
   "metadata": {},
   "source": [
    "> _Note: Expandable sections (like \"Click to expand\") work best in interactive environments such as Jupyter Lab or VS Code. They may appear fully expanded on GitHub._"
   ]
  },
  {
   "cell_type": "markdown",
   "id": "65e652de",
   "metadata": {},
   "source": [
    "<details>\n",
    "<summary><strong>Key Insights — Missing Values & Data Types (Click to expand)</strong></summary>\n",
    "\n",
    "**Missing Values**\n",
    "\n",
    "The missing values fall into **three distinct groups**:\n",
    "1. **Product-related attributes**  \n",
    "   - `total_order_weight`, `product_name_length`, `product_description_length`, `product_photos_qty`, `product_length_cm`, `product_height_cm`, `product_width_cm`  \n",
    "   → These values are missing for ~1,300 orders, likely due to unavailable product information or incomplete joins during merging.\n",
    "\n",
    "2. **Payment-related attributes**  \n",
    "   - `payment_types`, `n_payment_types`, `max_payment_installments`, `n_payment_records`  \n",
    "   → A single row has missing values across these columns, possibly due to an unrecorded or failed transaction.\n",
    "\n",
    "3. **Delivery date columns**  \n",
    "   - `order_delivered_carrier_date`, `order_delivered_customer_date`  \n",
    "   → Although the dataset was filtered to include only orders with `order_status = 'delivered'`, a small number of delivery dates are still missing. This could be due to inconsistencies or delays in data recording on the platform.\n",
    "\n",
    "**Data Types**\n",
    "\n",
    "Some columns with low cardinality and repeated string values (e.g. `product_category_name`, `payment_types`, `customer_state` or `seller_state`) are currently of `object` dtype.  \n",
    "To improve memory efficiency and performance in grouping and aggregation tasks, we will convert them to the category dtype where applicable.\n",
    "\n",
    "</details>"
   ]
  },
  {
   "cell_type": "markdown",
   "id": "10013082",
   "metadata": {},
   "source": [
    "[🠉 Back to top](#structure-of-the-notebook)"
   ]
  },
  {
   "cell_type": "markdown",
   "id": "20c4a2f5",
   "metadata": {},
   "source": [
    "#### ➤ Detecting Anomalies in Numeric Features"
   ]
  },
  {
   "cell_type": "markdown",
   "id": "b3e73820",
   "metadata": {},
   "source": [
    "#### ⚠️ TODO: say that in this section we check for anomalies (really wrong values)"
   ]
  },
  {
   "cell_type": "code",
   "execution_count": 95,
   "id": "40af5034",
   "metadata": {},
   "outputs": [
    {
     "name": "stdout",
     "output_type": "stream",
     "text": [
      "Df:\n"
     ]
    },
    {
     "data": {
      "text/html": [
       "<div>\n",
       "<style scoped>\n",
       "    .dataframe tbody tr th:only-of-type {\n",
       "        vertical-align: middle;\n",
       "    }\n",
       "\n",
       "    .dataframe tbody tr th {\n",
       "        vertical-align: top;\n",
       "    }\n",
       "\n",
       "    .dataframe thead th {\n",
       "        text-align: right;\n",
       "    }\n",
       "</style>\n",
       "<table border=\"1\" class=\"dataframe\">\n",
       "  <thead>\n",
       "    <tr style=\"text-align: right;\">\n",
       "      <th></th>\n",
       "      <th>count</th>\n",
       "      <th>mean</th>\n",
       "      <th>std</th>\n",
       "      <th>min</th>\n",
       "      <th>25%</th>\n",
       "      <th>50%</th>\n",
       "      <th>75%</th>\n",
       "      <th>max</th>\n",
       "    </tr>\n",
       "  </thead>\n",
       "  <tbody>\n",
       "    <tr>\n",
       "      <th>review_score</th>\n",
       "      <td>94,782.00</td>\n",
       "      <td>4.16</td>\n",
       "      <td>1.28</td>\n",
       "      <td>1.00</td>\n",
       "      <td>4.00</td>\n",
       "      <td>5.00</td>\n",
       "      <td>5.00</td>\n",
       "      <td>5.00</td>\n",
       "    </tr>\n",
       "    <tr>\n",
       "      <th>num_unique_products</th>\n",
       "      <td>94,782.00</td>\n",
       "      <td>1.04</td>\n",
       "      <td>0.23</td>\n",
       "      <td>1.00</td>\n",
       "      <td>1.00</td>\n",
       "      <td>1.00</td>\n",
       "      <td>1.00</td>\n",
       "      <td>8.00</td>\n",
       "    </tr>\n",
       "    <tr>\n",
       "      <th>num_items</th>\n",
       "      <td>94,782.00</td>\n",
       "      <td>1.14</td>\n",
       "      <td>0.53</td>\n",
       "      <td>1.00</td>\n",
       "      <td>1.00</td>\n",
       "      <td>1.00</td>\n",
       "      <td>1.00</td>\n",
       "      <td>21.00</td>\n",
       "    </tr>\n",
       "    <tr>\n",
       "      <th>total_price</th>\n",
       "      <td>94,782.00</td>\n",
       "      <td>137.08</td>\n",
       "      <td>208.31</td>\n",
       "      <td>0.85</td>\n",
       "      <td>45.90</td>\n",
       "      <td>86.90</td>\n",
       "      <td>149.90</td>\n",
       "      <td>13,440.00</td>\n",
       "    </tr>\n",
       "    <tr>\n",
       "      <th>total_freight</th>\n",
       "      <td>94,782.00</td>\n",
       "      <td>22.76</td>\n",
       "      <td>21.51</td>\n",
       "      <td>0.00</td>\n",
       "      <td>13.84</td>\n",
       "      <td>17.17</td>\n",
       "      <td>24.00</td>\n",
       "      <td>1,794.96</td>\n",
       "    </tr>\n",
       "    <tr>\n",
       "      <th>total_amount</th>\n",
       "      <td>94,782.00</td>\n",
       "      <td>159.84</td>\n",
       "      <td>218.01</td>\n",
       "      <td>9.59</td>\n",
       "      <td>61.84</td>\n",
       "      <td>105.28</td>\n",
       "      <td>176.36</td>\n",
       "      <td>13,664.08</td>\n",
       "    </tr>\n",
       "    <tr>\n",
       "      <th>total_order_weight</th>\n",
       "      <td>93,471.00</td>\n",
       "      <td>2,390.26</td>\n",
       "      <td>4,774.41</td>\n",
       "      <td>0.00</td>\n",
       "      <td>300.00</td>\n",
       "      <td>750.00</td>\n",
       "      <td>2,069.50</td>\n",
       "      <td>184,400.00</td>\n",
       "    </tr>\n",
       "    <tr>\n",
       "      <th>product_name_length</th>\n",
       "      <td>93,471.00</td>\n",
       "      <td>48.88</td>\n",
       "      <td>9.94</td>\n",
       "      <td>5.00</td>\n",
       "      <td>43.00</td>\n",
       "      <td>52.00</td>\n",
       "      <td>57.00</td>\n",
       "      <td>76.00</td>\n",
       "    </tr>\n",
       "    <tr>\n",
       "      <th>product_description_length</th>\n",
       "      <td>93,471.00</td>\n",
       "      <td>795.02</td>\n",
       "      <td>652.60</td>\n",
       "      <td>4.00</td>\n",
       "      <td>352.00</td>\n",
       "      <td>609.00</td>\n",
       "      <td>998.00</td>\n",
       "      <td>3,992.00</td>\n",
       "    </tr>\n",
       "    <tr>\n",
       "      <th>product_photos_qty</th>\n",
       "      <td>93,471.00</td>\n",
       "      <td>2.26</td>\n",
       "      <td>1.75</td>\n",
       "      <td>1.00</td>\n",
       "      <td>1.00</td>\n",
       "      <td>2.00</td>\n",
       "      <td>3.00</td>\n",
       "      <td>20.00</td>\n",
       "    </tr>\n",
       "    <tr>\n",
       "      <th>product_length_cm</th>\n",
       "      <td>93,471.00</td>\n",
       "      <td>30.11</td>\n",
       "      <td>16.07</td>\n",
       "      <td>7.00</td>\n",
       "      <td>18.00</td>\n",
       "      <td>25.00</td>\n",
       "      <td>38.00</td>\n",
       "      <td>105.00</td>\n",
       "    </tr>\n",
       "    <tr>\n",
       "      <th>product_height_cm</th>\n",
       "      <td>93,471.00</td>\n",
       "      <td>16.48</td>\n",
       "      <td>13.26</td>\n",
       "      <td>2.00</td>\n",
       "      <td>8.00</td>\n",
       "      <td>13.00</td>\n",
       "      <td>20.00</td>\n",
       "      <td>105.00</td>\n",
       "    </tr>\n",
       "    <tr>\n",
       "      <th>product_width_cm</th>\n",
       "      <td>93,471.00</td>\n",
       "      <td>23.03</td>\n",
       "      <td>11.68</td>\n",
       "      <td>6.00</td>\n",
       "      <td>15.00</td>\n",
       "      <td>20.00</td>\n",
       "      <td>30.00</td>\n",
       "      <td>118.00</td>\n",
       "    </tr>\n",
       "    <tr>\n",
       "      <th>n_payment_types</th>\n",
       "      <td>94,781.00</td>\n",
       "      <td>1.02</td>\n",
       "      <td>0.15</td>\n",
       "      <td>1.00</td>\n",
       "      <td>1.00</td>\n",
       "      <td>1.00</td>\n",
       "      <td>1.00</td>\n",
       "      <td>2.00</td>\n",
       "    </tr>\n",
       "    <tr>\n",
       "      <th>max_payment_installments</th>\n",
       "      <td>94,781.00</td>\n",
       "      <td>2.92</td>\n",
       "      <td>2.71</td>\n",
       "      <td>0.00</td>\n",
       "      <td>1.00</td>\n",
       "      <td>2.00</td>\n",
       "      <td>4.00</td>\n",
       "      <td>24.00</td>\n",
       "    </tr>\n",
       "    <tr>\n",
       "      <th>n_payment_records</th>\n",
       "      <td>94,781.00</td>\n",
       "      <td>1.04</td>\n",
       "      <td>0.37</td>\n",
       "      <td>1.00</td>\n",
       "      <td>1.00</td>\n",
       "      <td>1.00</td>\n",
       "      <td>1.00</td>\n",
       "      <td>26.00</td>\n",
       "    </tr>\n",
       "  </tbody>\n",
       "</table>\n",
       "</div>"
      ],
      "text/plain": [
       "                               count     mean      std  min    25%    50%  \\\n",
       "review_score               94,782.00     4.16     1.28 1.00   4.00   5.00   \n",
       "num_unique_products        94,782.00     1.04     0.23 1.00   1.00   1.00   \n",
       "num_items                  94,782.00     1.14     0.53 1.00   1.00   1.00   \n",
       "total_price                94,782.00   137.08   208.31 0.85  45.90  86.90   \n",
       "total_freight              94,782.00    22.76    21.51 0.00  13.84  17.17   \n",
       "total_amount               94,782.00   159.84   218.01 9.59  61.84 105.28   \n",
       "total_order_weight         93,471.00 2,390.26 4,774.41 0.00 300.00 750.00   \n",
       "product_name_length        93,471.00    48.88     9.94 5.00  43.00  52.00   \n",
       "product_description_length 93,471.00   795.02   652.60 4.00 352.00 609.00   \n",
       "product_photos_qty         93,471.00     2.26     1.75 1.00   1.00   2.00   \n",
       "product_length_cm          93,471.00    30.11    16.07 7.00  18.00  25.00   \n",
       "product_height_cm          93,471.00    16.48    13.26 2.00   8.00  13.00   \n",
       "product_width_cm           93,471.00    23.03    11.68 6.00  15.00  20.00   \n",
       "n_payment_types            94,781.00     1.02     0.15 1.00   1.00   1.00   \n",
       "max_payment_installments   94,781.00     2.92     2.71 0.00   1.00   2.00   \n",
       "n_payment_records          94,781.00     1.04     0.37 1.00   1.00   1.00   \n",
       "\n",
       "                                75%        max  \n",
       "review_score                   5.00       5.00  \n",
       "num_unique_products            1.00       8.00  \n",
       "num_items                      1.00      21.00  \n",
       "total_price                  149.90  13,440.00  \n",
       "total_freight                 24.00   1,794.96  \n",
       "total_amount                 176.36  13,664.08  \n",
       "total_order_weight         2,069.50 184,400.00  \n",
       "product_name_length           57.00      76.00  \n",
       "product_description_length   998.00   3,992.00  \n",
       "product_photos_qty             3.00      20.00  \n",
       "product_length_cm             38.00     105.00  \n",
       "product_height_cm             20.00     105.00  \n",
       "product_width_cm              30.00     118.00  \n",
       "n_payment_types                1.00       2.00  \n",
       "max_payment_installments       4.00      24.00  \n",
       "n_payment_records              1.00      26.00  "
      ]
     },
     "metadata": {},
     "output_type": "display_data"
    },
    {
     "name": "stdout",
     "output_type": "stream",
     "text": [
      "----------------------------------------------------------------------------------------------------------------------------------\n"
     ]
    }
   ],
   "source": [
    "# Show descriptive statisticf for numeric columns\n",
    "u.describe_numeric(df_orders)"
   ]
  },
  {
   "cell_type": "markdown",
   "id": "f068c228",
   "metadata": {},
   "source": [
    "#### ⚠️ TODO: write about anomalies found in .describe(): weight=0, max_payment_installments=0"
   ]
  },
  {
   "cell_type": "markdown",
   "id": "896e26d7",
   "metadata": {},
   "source": [
    "[🠉 Back to top](#structure-of-the-notebook)"
   ]
  },
  {
   "cell_type": "markdown",
   "id": "2196a720",
   "metadata": {},
   "source": [
    "### **🔹Handling Missing Values**"
   ]
  },
  {
   "cell_type": "markdown",
   "id": "0df5f9e1",
   "metadata": {},
   "source": [
    "#### ⚠️ TODO: say that in this section we will handle missing values identified in the previous section"
   ]
  },
  {
   "cell_type": "markdown",
   "id": "1aa7c823",
   "metadata": {},
   "source": [
    "#### ➤ Product-related attributes"
   ]
  },
  {
   "cell_type": "markdown",
   "id": "a1bc2a0e",
   "metadata": {},
   "source": [
    "#### ⚠️ TODO: explain what will be done in this section (identified more than 1300 missing values in each column)"
   ]
  },
  {
   "cell_type": "markdown",
   "id": "d3c4c25e",
   "metadata": {},
   "source": [
    "#### ⚠️ TODO: explain why to create a flag for missing product attributes"
   ]
  },
  {
   "cell_type": "code",
   "execution_count": 96,
   "id": "8a2ede79",
   "metadata": {},
   "outputs": [],
   "source": [
    "# Create missing flag: 1 if any of the product-related fields is missing\n",
    "df_orders[\"product_details_missing\"] = (\n",
    "    df_orders[main_columns_product].isna().any(axis=1).astype(int)\n",
    ")"
   ]
  },
  {
   "cell_type": "markdown",
   "id": "3ef8dfc5",
   "metadata": {},
   "source": [
    "#### ⚠️ TODO: explain why to choose median for the missing values"
   ]
  },
  {
   "cell_type": "code",
   "execution_count": 97,
   "id": "f7b4d87c",
   "metadata": {},
   "outputs": [],
   "source": [
    "# Median imputation\n",
    "for col in main_columns_product:\n",
    "    if df_orders[col].isna().any():\n",
    "        median_value = df_orders[col].median()\n",
    "        df_orders[col] = df_orders[col].fillna(median_value)"
   ]
  },
  {
   "cell_type": "markdown",
   "id": "7f92ce2a",
   "metadata": {},
   "source": [
    "[🠉 Back to top](#structure-of-the-notebook)"
   ]
  },
  {
   "cell_type": "markdown",
   "id": "8fdfcc32",
   "metadata": {},
   "source": [
    "#### ➤ Payment-related attributes"
   ]
  },
  {
   "cell_type": "code",
   "execution_count": 98,
   "id": "75ccdfc5",
   "metadata": {},
   "outputs": [
    {
     "data": {
      "text/html": [
       "<div>\n",
       "<style scoped>\n",
       "    .dataframe tbody tr th:only-of-type {\n",
       "        vertical-align: middle;\n",
       "    }\n",
       "\n",
       "    .dataframe tbody tr th {\n",
       "        vertical-align: top;\n",
       "    }\n",
       "\n",
       "    .dataframe thead th {\n",
       "        text-align: right;\n",
       "    }\n",
       "</style>\n",
       "<table border=\"1\" class=\"dataframe\">\n",
       "  <thead>\n",
       "    <tr style=\"text-align: right;\">\n",
       "      <th></th>\n",
       "      <th>order_id</th>\n",
       "      <th>review_score</th>\n",
       "      <th>product_id</th>\n",
       "      <th>product_category_name</th>\n",
       "      <th>num_items</th>\n",
       "      <th>total_price</th>\n",
       "      <th>total_freight</th>\n",
       "      <th>total_amount</th>\n",
       "      <th>payment_types</th>\n",
       "      <th>n_payment_types</th>\n",
       "      <th>max_payment_installments</th>\n",
       "      <th>n_payment_records</th>\n",
       "    </tr>\n",
       "  </thead>\n",
       "  <tbody>\n",
       "    <tr>\n",
       "      <th>70948</th>\n",
       "      <td>bfbd0f9bdef84302105ad712db648a6c</td>\n",
       "      <td>1</td>\n",
       "      <td>5a6b04657a4c5ee34285d1e4619a96b4</td>\n",
       "      <td>health_beauty</td>\n",
       "      <td>3.00</td>\n",
       "      <td>134.97</td>\n",
       "      <td>8.49</td>\n",
       "      <td>143.46</td>\n",
       "      <td>None</td>\n",
       "      <td>&lt;NA&gt;</td>\n",
       "      <td>&lt;NA&gt;</td>\n",
       "      <td>&lt;NA&gt;</td>\n",
       "    </tr>\n",
       "  </tbody>\n",
       "</table>\n",
       "</div>"
      ],
      "text/plain": [
       "                               order_id  review_score  \\\n",
       "70948  bfbd0f9bdef84302105ad712db648a6c             1   \n",
       "\n",
       "                             product_id product_category_name  num_items  \\\n",
       "70948  5a6b04657a4c5ee34285d1e4619a96b4         health_beauty       3.00   \n",
       "\n",
       "       total_price  total_freight  total_amount payment_types  \\\n",
       "70948       134.97           8.49        143.46          None   \n",
       "\n",
       "       n_payment_types  max_payment_installments  n_payment_records  \n",
       "70948             <NA>                      <NA>               <NA>  "
      ]
     },
     "execution_count": 98,
     "metadata": {},
     "output_type": "execute_result"
    }
   ],
   "source": [
    "# Inspect rows with missing payment information\n",
    "df_orders[df_orders[main_columns_payment].isna().any(axis=1)][main_columns_basic + main_columns_payment]\n"
   ]
  },
  {
   "cell_type": "markdown",
   "id": "3c24a525",
   "metadata": {},
   "source": [
    "We found that only one order has missing values in **payment-related columns**. Since the number of affected rows is minimal and there’s no obvious outlier behavior, we impute these missing values using the **mode** of each column. This ensures consistency with the most common payment patterns observed in the dataset."
   ]
  },
  {
   "cell_type": "code",
   "execution_count": 99,
   "id": "389e3386",
   "metadata": {},
   "outputs": [],
   "source": [
    "# Impute missing payment-related values using the mode of each column\n",
    "for col in main_columns_payment:\n",
    "    if df_orders[col].isna().any():\n",
    "        mode_value = df_orders[col].mode(dropna=True)[0]\n",
    "        df_orders[col] = df_orders[col].fillna(mode_value)"
   ]
  },
  {
   "cell_type": "markdown",
   "id": "425aab26",
   "metadata": {},
   "source": [
    "#### ➤ Delivery date columns"
   ]
  },
  {
   "cell_type": "code",
   "execution_count": 100,
   "id": "4c885a08",
   "metadata": {},
   "outputs": [
    {
     "data": {
      "text/html": [
       "<div>\n",
       "<style scoped>\n",
       "    .dataframe tbody tr th:only-of-type {\n",
       "        vertical-align: middle;\n",
       "    }\n",
       "\n",
       "    .dataframe tbody tr th {\n",
       "        vertical-align: top;\n",
       "    }\n",
       "\n",
       "    .dataframe thead th {\n",
       "        text-align: right;\n",
       "    }\n",
       "</style>\n",
       "<table border=\"1\" class=\"dataframe\">\n",
       "  <thead>\n",
       "    <tr style=\"text-align: right;\">\n",
       "      <th></th>\n",
       "      <th>order_id</th>\n",
       "      <th>review_score</th>\n",
       "      <th>product_id</th>\n",
       "      <th>product_category_name</th>\n",
       "      <th>num_items</th>\n",
       "      <th>total_price</th>\n",
       "      <th>total_freight</th>\n",
       "      <th>total_amount</th>\n",
       "      <th>shipping_limit_date</th>\n",
       "      <th>order_delivered_carrier_date</th>\n",
       "      <th>order_delivered_customer_date</th>\n",
       "      <th>order_estimated_delivery_date</th>\n",
       "    </tr>\n",
       "  </thead>\n",
       "  <tbody>\n",
       "    <tr>\n",
       "      <th>4937</th>\n",
       "      <td>0d3268bad9b086af767785e3f0fc0133</td>\n",
       "      <td>5</td>\n",
       "      <td>ec165cd31c50585786ffda6feff5d0a6</td>\n",
       "      <td>toys</td>\n",
       "      <td>1.00</td>\n",
       "      <td>188.99</td>\n",
       "      <td>15.63</td>\n",
       "      <td>204.62</td>\n",
       "      <td>2018-07-05 21:29:54</td>\n",
       "      <td>2018-07-03 09:28:00</td>\n",
       "      <td>NaT</td>\n",
       "      <td>2018-07-24</td>\n",
       "    </tr>\n",
       "    <tr>\n",
       "      <th>12179</th>\n",
       "      <td>20edc82cf5400ce95e1afacc25798b31</td>\n",
       "      <td>5</td>\n",
       "      <td>55bfa0307d7a46bed72c492259921231</td>\n",
       "      <td>books_general_interest</td>\n",
       "      <td>1.00</td>\n",
       "      <td>45.90</td>\n",
       "      <td>9.07</td>\n",
       "      <td>54.97</td>\n",
       "      <td>2018-07-03 16:29:30</td>\n",
       "      <td>2018-07-03 19:26:00</td>\n",
       "      <td>NaT</td>\n",
       "      <td>2018-07-19</td>\n",
       "    </tr>\n",
       "    <tr>\n",
       "      <th>15655</th>\n",
       "      <td>2aa91108853cecb43c84a5dc5b277475</td>\n",
       "      <td>5</td>\n",
       "      <td>44c2baf621113fa7ac95fa06b4afbc68</td>\n",
       "      <td>furniture_decor</td>\n",
       "      <td>1.00</td>\n",
       "      <td>179.00</td>\n",
       "      <td>14.98</td>\n",
       "      <td>193.98</td>\n",
       "      <td>2017-10-18 10:07:16</td>\n",
       "      <td>NaT</td>\n",
       "      <td>2017-11-20 19:44:47</td>\n",
       "      <td>2017-11-14</td>\n",
       "    </tr>\n",
       "    <tr>\n",
       "      <th>16550</th>\n",
       "      <td>2d1e2d5bf4dc7227b3bfebb81328c15f</td>\n",
       "      <td>5</td>\n",
       "      <td>a50acd33ba7a8da8e9db65094fa990a4</td>\n",
       "      <td>auto</td>\n",
       "      <td>1.00</td>\n",
       "      <td>117.30</td>\n",
       "      <td>17.53</td>\n",
       "      <td>134.83</td>\n",
       "      <td>2017-12-04 17:56:40</td>\n",
       "      <td>2017-11-30 18:12:23</td>\n",
       "      <td>NaT</td>\n",
       "      <td>2017-12-18</td>\n",
       "    </tr>\n",
       "    <tr>\n",
       "      <th>16719</th>\n",
       "      <td>2d858f451373b04fb5c984a1cc2defaf</td>\n",
       "      <td>5</td>\n",
       "      <td>30b5b5635a79548a48d04162d971848f</td>\n",
       "      <td>sports_leisure</td>\n",
       "      <td>1.00</td>\n",
       "      <td>179.00</td>\n",
       "      <td>15.00</td>\n",
       "      <td>194.00</td>\n",
       "      <td>2017-06-04 23:30:16</td>\n",
       "      <td>NaT</td>\n",
       "      <td>NaT</td>\n",
       "      <td>2017-06-23</td>\n",
       "    </tr>\n",
       "    <tr>\n",
       "      <th>17173</th>\n",
       "      <td>2ebdfc4f15f23b91474edf87475f108e</td>\n",
       "      <td>5</td>\n",
       "      <td>e7d5464b94c9a5963f7c686fc80145ad</td>\n",
       "      <td>watches_gifts</td>\n",
       "      <td>1.00</td>\n",
       "      <td>139.00</td>\n",
       "      <td>19.07</td>\n",
       "      <td>158.07</td>\n",
       "      <td>2018-07-05 17:15:12</td>\n",
       "      <td>2018-07-03 13:57:00</td>\n",
       "      <td>NaT</td>\n",
       "      <td>2018-07-30</td>\n",
       "    </tr>\n",
       "    <tr>\n",
       "      <th>63260</th>\n",
       "      <td>ab7c89dc1bf4a1ead9d6ec1ec8968a84</td>\n",
       "      <td>1</td>\n",
       "      <td>a2a7efc985315e86d4f0f705701b342b</td>\n",
       "      <td>computers_accessories</td>\n",
       "      <td>1.00</td>\n",
       "      <td>110.99</td>\n",
       "      <td>9.13</td>\n",
       "      <td>120.12</td>\n",
       "      <td>2018-06-18 12:30:35</td>\n",
       "      <td>2018-06-12 14:10:00</td>\n",
       "      <td>NaT</td>\n",
       "      <td>2018-06-26</td>\n",
       "    </tr>\n",
       "    <tr>\n",
       "      <th>85498</th>\n",
       "      <td>e69f75a717d64fc5ecdfae42b2e8e086</td>\n",
       "      <td>5</td>\n",
       "      <td>e7d5464b94c9a5963f7c686fc80145ad</td>\n",
       "      <td>watches_gifts</td>\n",
       "      <td>1.00</td>\n",
       "      <td>139.00</td>\n",
       "      <td>19.07</td>\n",
       "      <td>158.07</td>\n",
       "      <td>2018-07-05 22:15:14</td>\n",
       "      <td>2018-07-03 13:57:00</td>\n",
       "      <td>NaT</td>\n",
       "      <td>2018-07-30</td>\n",
       "    </tr>\n",
       "    <tr>\n",
       "      <th>91015</th>\n",
       "      <td>f5dd62b788049ad9fc0526e3ad11a097</td>\n",
       "      <td>5</td>\n",
       "      <td>2167c8f6252667c0eb9edd51520706a1</td>\n",
       "      <td>industry_commerce_and_business</td>\n",
       "      <td>1.00</td>\n",
       "      <td>329.00</td>\n",
       "      <td>25.24</td>\n",
       "      <td>354.24</td>\n",
       "      <td>2018-06-26 07:19:05</td>\n",
       "      <td>2018-06-25 08:05:00</td>\n",
       "      <td>NaT</td>\n",
       "      <td>2018-07-16</td>\n",
       "    </tr>\n",
       "  </tbody>\n",
       "</table>\n",
       "</div>"
      ],
      "text/plain": [
       "                               order_id  review_score  \\\n",
       "4937   0d3268bad9b086af767785e3f0fc0133             5   \n",
       "12179  20edc82cf5400ce95e1afacc25798b31             5   \n",
       "15655  2aa91108853cecb43c84a5dc5b277475             5   \n",
       "16550  2d1e2d5bf4dc7227b3bfebb81328c15f             5   \n",
       "16719  2d858f451373b04fb5c984a1cc2defaf             5   \n",
       "17173  2ebdfc4f15f23b91474edf87475f108e             5   \n",
       "63260  ab7c89dc1bf4a1ead9d6ec1ec8968a84             1   \n",
       "85498  e69f75a717d64fc5ecdfae42b2e8e086             5   \n",
       "91015  f5dd62b788049ad9fc0526e3ad11a097             5   \n",
       "\n",
       "                             product_id           product_category_name  \\\n",
       "4937   ec165cd31c50585786ffda6feff5d0a6                            toys   \n",
       "12179  55bfa0307d7a46bed72c492259921231          books_general_interest   \n",
       "15655  44c2baf621113fa7ac95fa06b4afbc68                 furniture_decor   \n",
       "16550  a50acd33ba7a8da8e9db65094fa990a4                            auto   \n",
       "16719  30b5b5635a79548a48d04162d971848f                  sports_leisure   \n",
       "17173  e7d5464b94c9a5963f7c686fc80145ad                   watches_gifts   \n",
       "63260  a2a7efc985315e86d4f0f705701b342b           computers_accessories   \n",
       "85498  e7d5464b94c9a5963f7c686fc80145ad                   watches_gifts   \n",
       "91015  2167c8f6252667c0eb9edd51520706a1  industry_commerce_and_business   \n",
       "\n",
       "       num_items  total_price  total_freight  total_amount  \\\n",
       "4937        1.00       188.99          15.63        204.62   \n",
       "12179       1.00        45.90           9.07         54.97   \n",
       "15655       1.00       179.00          14.98        193.98   \n",
       "16550       1.00       117.30          17.53        134.83   \n",
       "16719       1.00       179.00          15.00        194.00   \n",
       "17173       1.00       139.00          19.07        158.07   \n",
       "63260       1.00       110.99           9.13        120.12   \n",
       "85498       1.00       139.00          19.07        158.07   \n",
       "91015       1.00       329.00          25.24        354.24   \n",
       "\n",
       "      shipping_limit_date order_delivered_carrier_date  \\\n",
       "4937  2018-07-05 21:29:54          2018-07-03 09:28:00   \n",
       "12179 2018-07-03 16:29:30          2018-07-03 19:26:00   \n",
       "15655 2017-10-18 10:07:16                          NaT   \n",
       "16550 2017-12-04 17:56:40          2017-11-30 18:12:23   \n",
       "16719 2017-06-04 23:30:16                          NaT   \n",
       "17173 2018-07-05 17:15:12          2018-07-03 13:57:00   \n",
       "63260 2018-06-18 12:30:35          2018-06-12 14:10:00   \n",
       "85498 2018-07-05 22:15:14          2018-07-03 13:57:00   \n",
       "91015 2018-06-26 07:19:05          2018-06-25 08:05:00   \n",
       "\n",
       "      order_delivered_customer_date order_estimated_delivery_date  \n",
       "4937                            NaT                    2018-07-24  \n",
       "12179                           NaT                    2018-07-19  \n",
       "15655           2017-11-20 19:44:47                    2017-11-14  \n",
       "16550                           NaT                    2017-12-18  \n",
       "16719                           NaT                    2017-06-23  \n",
       "17173                           NaT                    2018-07-30  \n",
       "63260                           NaT                    2018-06-26  \n",
       "85498                           NaT                    2018-07-30  \n",
       "91015                           NaT                    2018-07-16  "
      ]
     },
     "execution_count": 100,
     "metadata": {},
     "output_type": "execute_result"
    }
   ],
   "source": [
    "# Inspect rows with missing delivery dates\n",
    "df_orders[df_orders[main_columns_delivery].isna().any(axis=1)][main_columns_basic+main_columns_delivery]"
   ]
  },
  {
   "cell_type": "markdown",
   "id": "4e32d954",
   "metadata": {},
   "source": [
    "#### ⚠️ TODO: explain why to drop the rows with missing delivery dates"
   ]
  },
  {
   "cell_type": "code",
   "execution_count": 101,
   "id": "9e34409f",
   "metadata": {},
   "outputs": [],
   "source": [
    "# Drop orders with missing delivery dates, as these likely correspond to undelivered or cancelled orders\n",
    "df_orders = df_orders.dropna(subset=main_columns_delivery)\n",
    "\n",
    "# Reset index after dropping rows to keep DataFrame tidy\n",
    "df_orders.reset_index(drop=True, inplace=True)"
   ]
  },
  {
   "cell_type": "markdown",
   "id": "ffdc507a",
   "metadata": {},
   "source": [
    "[🠉 Back to top](#structure-of-the-notebook)"
   ]
  },
  {
   "cell_type": "markdown",
   "id": "bdcd2035",
   "metadata": {},
   "source": [
    "### **🔹Handling Implausible Numeric Values**"
   ]
  },
  {
   "cell_type": "markdown",
   "id": "228b0f36",
   "metadata": {},
   "source": [
    "#### ⚠️ TODO: write that in inspection section we found weird values in weight and installment columns that need to be explored and fixed"
   ]
  },
  {
   "cell_type": "markdown",
   "id": "e28e1555",
   "metadata": {},
   "source": [
    "#### ➤ Payment installments = 0"
   ]
  },
  {
   "cell_type": "markdown",
   "id": "166efe12",
   "metadata": {},
   "source": [
    "#### ⚠️ Markdown: first explore the cases with 0 installments"
   ]
  },
  {
   "cell_type": "code",
   "execution_count": 102,
   "id": "03c9562d",
   "metadata": {},
   "outputs": [
    {
     "name": "stdout",
     "output_type": "stream",
     "text": [
      "Number of rows with max_payment_installments = 0: 2\n",
      "Sample rows with max_payment_installments = 0:\n"
     ]
    },
    {
     "data": {
      "text/html": [
       "<div>\n",
       "<style scoped>\n",
       "    .dataframe tbody tr th:only-of-type {\n",
       "        vertical-align: middle;\n",
       "    }\n",
       "\n",
       "    .dataframe tbody tr th {\n",
       "        vertical-align: top;\n",
       "    }\n",
       "\n",
       "    .dataframe thead th {\n",
       "        text-align: right;\n",
       "    }\n",
       "</style>\n",
       "<table border=\"1\" class=\"dataframe\">\n",
       "  <thead>\n",
       "    <tr style=\"text-align: right;\">\n",
       "      <th></th>\n",
       "      <th>order_id</th>\n",
       "      <th>review_score</th>\n",
       "      <th>product_id</th>\n",
       "      <th>product_category_name</th>\n",
       "      <th>num_items</th>\n",
       "      <th>total_price</th>\n",
       "      <th>total_freight</th>\n",
       "      <th>total_amount</th>\n",
       "      <th>payment_types</th>\n",
       "      <th>n_payment_types</th>\n",
       "      <th>max_payment_installments</th>\n",
       "      <th>n_payment_records</th>\n",
       "    </tr>\n",
       "  </thead>\n",
       "  <tbody>\n",
       "    <tr>\n",
       "      <th>9765</th>\n",
       "      <td>1a57108394169c0b47d8f876acc9ba2d</td>\n",
       "      <td>5</td>\n",
       "      <td>db35a562fb6ba63e19fa42a15349dc04</td>\n",
       "      <td>housewares</td>\n",
       "      <td>2.00</td>\n",
       "      <td>83.38</td>\n",
       "      <td>46.56</td>\n",
       "      <td>129.94</td>\n",
       "      <td>credit_card</td>\n",
       "      <td>1</td>\n",
       "      <td>0</td>\n",
       "      <td>1</td>\n",
       "    </tr>\n",
       "    <tr>\n",
       "      <th>42987</th>\n",
       "      <td>744bade1fcf9ff3f31d860ace076d422</td>\n",
       "      <td>5</td>\n",
       "      <td>0cf573090c66bb30ac5e53c82bdb0403</td>\n",
       "      <td>telephony</td>\n",
       "      <td>1.00</td>\n",
       "      <td>45.90</td>\n",
       "      <td>12.79</td>\n",
       "      <td>58.69</td>\n",
       "      <td>credit_card</td>\n",
       "      <td>1</td>\n",
       "      <td>0</td>\n",
       "      <td>1</td>\n",
       "    </tr>\n",
       "  </tbody>\n",
       "</table>\n",
       "</div>"
      ],
      "text/plain": [
       "                               order_id  review_score  \\\n",
       "9765   1a57108394169c0b47d8f876acc9ba2d             5   \n",
       "42987  744bade1fcf9ff3f31d860ace076d422             5   \n",
       "\n",
       "                             product_id product_category_name  num_items  \\\n",
       "9765   db35a562fb6ba63e19fa42a15349dc04            housewares       2.00   \n",
       "42987  0cf573090c66bb30ac5e53c82bdb0403             telephony       1.00   \n",
       "\n",
       "       total_price  total_freight  total_amount payment_types  \\\n",
       "9765         83.38          46.56        129.94   credit_card   \n",
       "42987        45.90          12.79         58.69   credit_card   \n",
       "\n",
       "       n_payment_types  max_payment_installments  n_payment_records  \n",
       "9765                 1                         0                  1  \n",
       "42987                1                         0                  1  "
      ]
     },
     "metadata": {},
     "output_type": "display_data"
    }
   ],
   "source": [
    "# Explore rows where max_payment_installments is 0\n",
    "\n",
    "# Check how many rows have 0 installments\n",
    "num_zero_installments = (df_orders[\"max_payment_installments\"] == 0).sum()\n",
    "print(f\"Number of rows with max_payment_installments = 0: {num_zero_installments}\")\n",
    "\n",
    "# Display a few sample rows with this issue to inspect further\n",
    "df_zero_installments = df_orders[df_orders[\"max_payment_installments\"] == 0][main_columns_basic+main_columns_payment]\n",
    "print(\"Sample rows with max_payment_installments = 0:\")\n",
    "display(df_zero_installments.head())"
   ]
  },
  {
   "cell_type": "markdown",
   "id": "dda7607a",
   "metadata": {},
   "source": [
    "#### ⚠️ Markdown: only two rows, will impute with mode"
   ]
  },
  {
   "cell_type": "code",
   "execution_count": 103,
   "id": "ff916859",
   "metadata": {},
   "outputs": [],
   "source": [
    "# Get mode from valid (non-zero) values\n",
    "mode_installments = df_orders[df_orders[\"max_payment_installments\"] > 0][\n",
    "    \"max_payment_installments\"\n",
    "].mode()[0]\n",
    "\n",
    "# Impute 0 values with mode\n",
    "df_orders.loc[\n",
    "    df_orders[\"max_payment_installments\"] == 0, \"max_payment_installments\"\n",
    "] = mode_installments\n",
    "\n",
    "# Confirm the fix\n",
    "assert (df_orders[\"max_payment_installments\"] == 0).sum() == 0, (\n",
    "    \"There are still zero values left!\"\n",
    ")"
   ]
  },
  {
   "cell_type": "markdown",
   "id": "159fe7d2",
   "metadata": {},
   "source": [
    "[🠉 Back to top](#structure-of-the-notebook)"
   ]
  },
  {
   "cell_type": "markdown",
   "id": "20b01bd7",
   "metadata": {},
   "source": [
    "#### ➤ Total Order Weight = 0"
   ]
  },
  {
   "cell_type": "code",
   "execution_count": 104,
   "id": "a19c8043",
   "metadata": {},
   "outputs": [
    {
     "name": "stdout",
     "output_type": "stream",
     "text": [
      "Number of orders with total_order_weight = 0: 6\n"
     ]
    },
    {
     "data": {
      "text/html": [
       "<div>\n",
       "<style scoped>\n",
       "    .dataframe tbody tr th:only-of-type {\n",
       "        vertical-align: middle;\n",
       "    }\n",
       "\n",
       "    .dataframe tbody tr th {\n",
       "        vertical-align: top;\n",
       "    }\n",
       "\n",
       "    .dataframe thead th {\n",
       "        text-align: right;\n",
       "    }\n",
       "</style>\n",
       "<table border=\"1\" class=\"dataframe\">\n",
       "  <thead>\n",
       "    <tr style=\"text-align: right;\">\n",
       "      <th></th>\n",
       "      <th>order_id</th>\n",
       "      <th>review_score</th>\n",
       "      <th>product_id</th>\n",
       "      <th>product_category_name</th>\n",
       "      <th>num_items</th>\n",
       "      <th>total_price</th>\n",
       "      <th>total_freight</th>\n",
       "      <th>total_amount</th>\n",
       "      <th>total_order_weight</th>\n",
       "      <th>seller_id</th>\n",
       "    </tr>\n",
       "  </thead>\n",
       "  <tbody>\n",
       "    <tr>\n",
       "      <th>2500</th>\n",
       "      <td>06afc1144eb9f51ef2aa90ec9223c7f4</td>\n",
       "      <td>3</td>\n",
       "      <td>e673e90efa65a5409ff4196c038bb5af</td>\n",
       "      <td>bed_bath_table</td>\n",
       "      <td>2.00</td>\n",
       "      <td>259.80</td>\n",
       "      <td>47.42</td>\n",
       "      <td>307.22</td>\n",
       "      <td>0.00</td>\n",
       "      <td>b39d7fe263ef469605dbb32608aee0af</td>\n",
       "    </tr>\n",
       "    <tr>\n",
       "      <th>2568</th>\n",
       "      <td>06d9e69034388abf6da64378e10737b8</td>\n",
       "      <td>3</td>\n",
       "      <td>36ba42dd187055e1fbe943b2d11430ca</td>\n",
       "      <td>bed_bath_table</td>\n",
       "      <td>2.00</td>\n",
       "      <td>200.00</td>\n",
       "      <td>47.70</td>\n",
       "      <td>247.70</td>\n",
       "      <td>0.00</td>\n",
       "      <td>b39d7fe263ef469605dbb32608aee0af</td>\n",
       "    </tr>\n",
       "    <tr>\n",
       "      <th>11855</th>\n",
       "      <td>200b121c28e10ef638131a7c76753327</td>\n",
       "      <td>5</td>\n",
       "      <td>81781c0fed9fe1ad6e8c81fca1e1cb08</td>\n",
       "      <td>bed_bath_table</td>\n",
       "      <td>1.00</td>\n",
       "      <td>100.00</td>\n",
       "      <td>19.89</td>\n",
       "      <td>119.89</td>\n",
       "      <td>0.00</td>\n",
       "      <td>b39d7fe263ef469605dbb32608aee0af</td>\n",
       "    </tr>\n",
       "    <tr>\n",
       "      <th>26401</th>\n",
       "      <td>476b812a7e4fc972646eb390517bddcb</td>\n",
       "      <td>5</td>\n",
       "      <td>e673e90efa65a5409ff4196c038bb5af</td>\n",
       "      <td>bed_bath_table</td>\n",
       "      <td>1.00</td>\n",
       "      <td>129.90</td>\n",
       "      <td>23.71</td>\n",
       "      <td>153.61</td>\n",
       "      <td>0.00</td>\n",
       "      <td>b39d7fe263ef469605dbb32608aee0af</td>\n",
       "    </tr>\n",
       "    <tr>\n",
       "      <th>27679</th>\n",
       "      <td>4abc7b5330425bcf9c2f7f48151a88c0</td>\n",
       "      <td>5</td>\n",
       "      <td>8038040ee2a71048d4bdbbdc985b69ab</td>\n",
       "      <td>bed_bath_table</td>\n",
       "      <td>1.00</td>\n",
       "      <td>129.90</td>\n",
       "      <td>14.49</td>\n",
       "      <td>144.39</td>\n",
       "      <td>0.00</td>\n",
       "      <td>b39d7fe263ef469605dbb32608aee0af</td>\n",
       "    </tr>\n",
       "    <tr>\n",
       "      <th>66694</th>\n",
       "      <td>b489f7ae130ba3fd26b0a20f8cc81c61</td>\n",
       "      <td>5</td>\n",
       "      <td>e673e90efa65a5409ff4196c038bb5af</td>\n",
       "      <td>bed_bath_table</td>\n",
       "      <td>1.00</td>\n",
       "      <td>129.90</td>\n",
       "      <td>23.71</td>\n",
       "      <td>153.61</td>\n",
       "      <td>0.00</td>\n",
       "      <td>b39d7fe263ef469605dbb32608aee0af</td>\n",
       "    </tr>\n",
       "  </tbody>\n",
       "</table>\n",
       "</div>"
      ],
      "text/plain": [
       "                               order_id  review_score  \\\n",
       "2500   06afc1144eb9f51ef2aa90ec9223c7f4             3   \n",
       "2568   06d9e69034388abf6da64378e10737b8             3   \n",
       "11855  200b121c28e10ef638131a7c76753327             5   \n",
       "26401  476b812a7e4fc972646eb390517bddcb             5   \n",
       "27679  4abc7b5330425bcf9c2f7f48151a88c0             5   \n",
       "66694  b489f7ae130ba3fd26b0a20f8cc81c61             5   \n",
       "\n",
       "                             product_id product_category_name  num_items  \\\n",
       "2500   e673e90efa65a5409ff4196c038bb5af        bed_bath_table       2.00   \n",
       "2568   36ba42dd187055e1fbe943b2d11430ca        bed_bath_table       2.00   \n",
       "11855  81781c0fed9fe1ad6e8c81fca1e1cb08        bed_bath_table       1.00   \n",
       "26401  e673e90efa65a5409ff4196c038bb5af        bed_bath_table       1.00   \n",
       "27679  8038040ee2a71048d4bdbbdc985b69ab        bed_bath_table       1.00   \n",
       "66694  e673e90efa65a5409ff4196c038bb5af        bed_bath_table       1.00   \n",
       "\n",
       "       total_price  total_freight  total_amount  total_order_weight  \\\n",
       "2500        259.80          47.42        307.22                0.00   \n",
       "2568        200.00          47.70        247.70                0.00   \n",
       "11855       100.00          19.89        119.89                0.00   \n",
       "26401       129.90          23.71        153.61                0.00   \n",
       "27679       129.90          14.49        144.39                0.00   \n",
       "66694       129.90          23.71        153.61                0.00   \n",
       "\n",
       "                              seller_id  \n",
       "2500   b39d7fe263ef469605dbb32608aee0af  \n",
       "2568   b39d7fe263ef469605dbb32608aee0af  \n",
       "11855  b39d7fe263ef469605dbb32608aee0af  \n",
       "26401  b39d7fe263ef469605dbb32608aee0af  \n",
       "27679  b39d7fe263ef469605dbb32608aee0af  \n",
       "66694  b39d7fe263ef469605dbb32608aee0af  "
      ]
     },
     "metadata": {},
     "output_type": "display_data"
    }
   ],
   "source": [
    "# Investigating implausible values: total_order_weight = 0\n",
    "\n",
    "# Count how many orders have zero total weight\n",
    "n_zero_weight = (df_orders[\"total_order_weight\"] == 0).sum()\n",
    "print(f\"Number of orders with total_order_weight = 0: {n_zero_weight}\")\n",
    "\n",
    "# Look at the cases with zero total weight\n",
    "df_zero_weight = df_orders[df_orders[\"total_order_weight\"] == 0][\n",
    "    main_columns_basic + [\"total_order_weight\", \"seller_id\"]\n",
    "]\n",
    "display(df_zero_weight)"
   ]
  },
  {
   "cell_type": "markdown",
   "id": "848f533e",
   "metadata": {},
   "source": [
    "We identified **6 orders** in the dataset where `total_order_weight` is equal to 0, which is not physically plausible. All of these orders belong to the `bed_bath_table` product category and were sold by the **same seller** (id `'b39d7fe263ef469605dbb32608aee0af'`)\n",
    "\n",
    "Despite the weight being 0, the associated `total_price` and `total_freight` values appear reasonable, indicating that this is most likely a data entry error."
   ]
  },
  {
   "cell_type": "markdown",
   "id": "43b41a05",
   "metadata": {},
   "source": [
    "To impute implausible zero values in `total_order_weight`, we use a tailored approach:\n",
    "\n",
    "- Filter orders from the same seller (`b39d...`) and same category (`bed_bath_table`)\n",
    "- Calculate the **median weight per item** from valid rows\n",
    "- Multiply this median by `num_items` for the 6 orders with `total_order_weight = 0`\n",
    "\n",
    "This ensures consistency while respecting seller-specific product characteristics."
   ]
  },
  {
   "cell_type": "code",
   "execution_count": 105,
   "id": "2b0e482d",
   "metadata": {},
   "outputs": [
    {
     "name": "stdout",
     "output_type": "stream",
     "text": [
      "Median weight per item for seller 'b39d7fe263ef469605dbb32608aee0af' in category 'bed_bath_table': 900.00 g\n"
     ]
    }
   ],
   "source": [
    "# Filter valid entries to calculate median weight per item for that seller + category\n",
    "seller = \"b39d7fe263ef469605dbb32608aee0af\"\n",
    "category = \"bed_bath_table\"\n",
    "\n",
    "valid_rows = df_orders[\n",
    "    (df_orders[\"seller_id\"] == seller)\n",
    "    & (df_orders[\"product_category_name\"] == category)\n",
    "    & (df_orders[\"total_order_weight\"] > 0)\n",
    "    & (df_orders[\"num_items\"] > 0)\n",
    "].copy()\n",
    "\n",
    "# Calculate median weight per item\n",
    "valid_rows[\"weight_per_item\"] = (\n",
    "    valid_rows[\"total_order_weight\"] / valid_rows[\"num_items\"]\n",
    ")\n",
    "median_weight_per_item = valid_rows[\"weight_per_item\"].median()\n",
    "\n",
    "print(\n",
    "    f\"Median weight per item for seller '{seller}' in category '{category}': {median_weight_per_item:.2f} g\"\n",
    ")\n",
    "\n",
    "# Impute for rows where weight is 0 using num_items\n",
    "mask_zero_weight = (\n",
    "    (df_orders[\"total_order_weight\"] == 0)\n",
    "    & (df_orders[\"seller_id\"] == seller)\n",
    "    & (df_orders[\"product_category_name\"] == category)\n",
    ")\n",
    "\n",
    "df_orders.loc[mask_zero_weight, \"total_order_weight\"] = (\n",
    "    df_orders.loc[mask_zero_weight, \"num_items\"] * median_weight_per_item\n",
    ")"
   ]
  },
  {
   "cell_type": "markdown",
   "id": "7d9664ea",
   "metadata": {},
   "source": [
    "[🠉 Back to top](#structure-of-the-notebook)"
   ]
  },
  {
   "cell_type": "markdown",
   "id": "9f3b337f",
   "metadata": {},
   "source": [
    "### **🔹Converting Data Types**"
   ]
  },
  {
   "cell_type": "markdown",
   "id": "6933059c",
   "metadata": {},
   "source": [
    "To improve memory efficiency and ensure correct data representation, we inspect the current data types of all columns. Based on this, we identify opportunities to convert certain columns (particularly those with unnecessary float or object types) into more efficient dtypes."
   ]
  },
  {
   "cell_type": "code",
   "execution_count": 106,
   "id": "95469d55",
   "metadata": {},
   "outputs": [
    {
     "name": "stdout",
     "output_type": "stream",
     "text": [
      "Df:\n"
     ]
    },
    {
     "data": {
      "text/html": [
       "<div>\n",
       "<style scoped>\n",
       "    .dataframe tbody tr th:only-of-type {\n",
       "        vertical-align: middle;\n",
       "    }\n",
       "\n",
       "    .dataframe tbody tr th {\n",
       "        vertical-align: top;\n",
       "    }\n",
       "\n",
       "    .dataframe thead th {\n",
       "        text-align: right;\n",
       "    }\n",
       "</style>\n",
       "<table border=\"1\" class=\"dataframe\">\n",
       "  <thead>\n",
       "    <tr style=\"text-align: right;\">\n",
       "      <th></th>\n",
       "      <th>dtype</th>\n",
       "      <th>non_null</th>\n",
       "      <th>missing_n</th>\n",
       "      <th>missing_%</th>\n",
       "      <th>uniques_n</th>\n",
       "      <th>uniques</th>\n",
       "    </tr>\n",
       "  </thead>\n",
       "  <tbody>\n",
       "    <tr>\n",
       "      <th>order_id</th>\n",
       "      <td>object</td>\n",
       "      <td>94773</td>\n",
       "      <td>0</td>\n",
       "      <td>0.00</td>\n",
       "      <td>94773</td>\n",
       "      <td>[00010242fe8c5a6d1ba2dd792cb16214, 00018f77f2f...</td>\n",
       "    </tr>\n",
       "    <tr>\n",
       "      <th>review_score</th>\n",
       "      <td>int64</td>\n",
       "      <td>94773</td>\n",
       "      <td>0</td>\n",
       "      <td>0.00</td>\n",
       "      <td>5</td>\n",
       "      <td>[5, 4, 1, 3, 2]</td>\n",
       "    </tr>\n",
       "    <tr>\n",
       "      <th>product_id</th>\n",
       "      <td>object</td>\n",
       "      <td>94773</td>\n",
       "      <td>0</td>\n",
       "      <td>0.00</td>\n",
       "      <td>29845</td>\n",
       "      <td>[4244733e06e7ecb4970a6e2683c13e61, e5f2d52b802...</td>\n",
       "    </tr>\n",
       "    <tr>\n",
       "      <th>product_category_name</th>\n",
       "      <td>object</td>\n",
       "      <td>94773</td>\n",
       "      <td>0</td>\n",
       "      <td>0.00</td>\n",
       "      <td>75</td>\n",
       "      <td>[cool_stuff, pet_shop, furniture_decor, perfum...</td>\n",
       "    </tr>\n",
       "    <tr>\n",
       "      <th>num_unique_products</th>\n",
       "      <td>int64</td>\n",
       "      <td>94773</td>\n",
       "      <td>0</td>\n",
       "      <td>0.00</td>\n",
       "      <td>8</td>\n",
       "      <td>[1, 2, 4, 3, 5, 6, 7, 8]</td>\n",
       "    </tr>\n",
       "    <tr>\n",
       "      <th>num_items</th>\n",
       "      <td>float64</td>\n",
       "      <td>94773</td>\n",
       "      <td>0</td>\n",
       "      <td>0.00</td>\n",
       "      <td>17</td>\n",
       "      <td>[1.0, 2.0, 3.0, 4.0, 5.0, 6.0, 8.0, 7.0, 20.0,...</td>\n",
       "    </tr>\n",
       "    <tr>\n",
       "      <th>total_price</th>\n",
       "      <td>float64</td>\n",
       "      <td>94773</td>\n",
       "      <td>0</td>\n",
       "      <td>0.00</td>\n",
       "      <td>7538</td>\n",
       "      <td>[58.9, 239.9, 199.0, 12.99, 199.9, 21.9, 19.9,...</td>\n",
       "    </tr>\n",
       "    <tr>\n",
       "      <th>total_freight</th>\n",
       "      <td>float64</td>\n",
       "      <td>94773</td>\n",
       "      <td>0</td>\n",
       "      <td>0.00</td>\n",
       "      <td>7831</td>\n",
       "      <td>[13.29, 19.93, 17.87, 12.79, 18.14, 12.69, 11....</td>\n",
       "    </tr>\n",
       "    <tr>\n",
       "      <th>total_amount</th>\n",
       "      <td>float64</td>\n",
       "      <td>94773</td>\n",
       "      <td>0</td>\n",
       "      <td>0.00</td>\n",
       "      <td>30319</td>\n",
       "      <td>[72.19, 259.83, 216.87, 25.78, 218.04000000000...</td>\n",
       "    </tr>\n",
       "    <tr>\n",
       "      <th>total_order_weight</th>\n",
       "      <td>float64</td>\n",
       "      <td>94773</td>\n",
       "      <td>0</td>\n",
       "      <td>0.00</td>\n",
       "      <td>2826</td>\n",
       "      <td>[650.0, 30000.0, 3050.0, 200.0, 3750.0, 450.0,...</td>\n",
       "    </tr>\n",
       "    <tr>\n",
       "      <th>product_name_length</th>\n",
       "      <td>float64</td>\n",
       "      <td>94773</td>\n",
       "      <td>0</td>\n",
       "      <td>0.00</td>\n",
       "      <td>65</td>\n",
       "      <td>[58.0, 56.0, 59.0, 42.0, 36.0, 52.0, 39.0, 57....</td>\n",
       "    </tr>\n",
       "    <tr>\n",
       "      <th>product_description_length</th>\n",
       "      <td>float64</td>\n",
       "      <td>94773</td>\n",
       "      <td>0</td>\n",
       "      <td>0.00</td>\n",
       "      <td>2940</td>\n",
       "      <td>[598.0, 239.0, 695.0, 480.0, 409.0, 558.0, 815...</td>\n",
       "    </tr>\n",
       "    <tr>\n",
       "      <th>product_photos_qty</th>\n",
       "      <td>float64</td>\n",
       "      <td>94773</td>\n",
       "      <td>0</td>\n",
       "      <td>0.00</td>\n",
       "      <td>19</td>\n",
       "      <td>[4.0, 2.0, 1.0, 3.0, 5.0, 8.0, 7.0, 9.0, 6.0, ...</td>\n",
       "    </tr>\n",
       "    <tr>\n",
       "      <th>product_length_cm</th>\n",
       "      <td>float64</td>\n",
       "      <td>94773</td>\n",
       "      <td>0</td>\n",
       "      <td>0.00</td>\n",
       "      <td>99</td>\n",
       "      <td>[28.0, 50.0, 33.0, 16.0, 35.0, 24.0, 27.0, 30....</td>\n",
       "    </tr>\n",
       "    <tr>\n",
       "      <th>product_height_cm</th>\n",
       "      <td>float64</td>\n",
       "      <td>94773</td>\n",
       "      <td>0</td>\n",
       "      <td>0.00</td>\n",
       "      <td>102</td>\n",
       "      <td>[9.0, 30.0, 13.0, 10.0, 40.0, 8.0, 5.0, 75.0, ...</td>\n",
       "    </tr>\n",
       "    <tr>\n",
       "      <th>product_width_cm</th>\n",
       "      <td>float64</td>\n",
       "      <td>94773</td>\n",
       "      <td>0</td>\n",
       "      <td>0.00</td>\n",
       "      <td>94</td>\n",
       "      <td>[14.0, 40.0, 33.0, 15.0, 30.0, 20.0, 45.0, 16....</td>\n",
       "    </tr>\n",
       "    <tr>\n",
       "      <th>payment_types</th>\n",
       "      <td>object</td>\n",
       "      <td>94773</td>\n",
       "      <td>0</td>\n",
       "      <td>0.00</td>\n",
       "      <td>5</td>\n",
       "      <td>[credit_card, boleto, credit_card, voucher, de...</td>\n",
       "    </tr>\n",
       "    <tr>\n",
       "      <th>n_payment_types</th>\n",
       "      <td>Int64</td>\n",
       "      <td>94773</td>\n",
       "      <td>0</td>\n",
       "      <td>0.00</td>\n",
       "      <td>2</td>\n",
       "      <td>[1, 2]</td>\n",
       "    </tr>\n",
       "    <tr>\n",
       "      <th>max_payment_installments</th>\n",
       "      <td>Int64</td>\n",
       "      <td>94773</td>\n",
       "      <td>0</td>\n",
       "      <td>0.00</td>\n",
       "      <td>23</td>\n",
       "      <td>[2, 3, 5, 1, 10, 4, 6, 7, 9, 8, 15, 12, 18, 13...</td>\n",
       "    </tr>\n",
       "    <tr>\n",
       "      <th>n_payment_records</th>\n",
       "      <td>Int64</td>\n",
       "      <td>94773</td>\n",
       "      <td>0</td>\n",
       "      <td>0.00</td>\n",
       "      <td>19</td>\n",
       "      <td>[1, 2, 6, 3, 7, 4, 5, 11, 12, 10, 15, 8, 9, 22...</td>\n",
       "    </tr>\n",
       "    <tr>\n",
       "      <th>shipping_limit_date</th>\n",
       "      <td>datetime64[us]</td>\n",
       "      <td>94773</td>\n",
       "      <td>0</td>\n",
       "      <td>0.00</td>\n",
       "      <td>89502</td>\n",
       "      <td>[2017-09-19 09:45:35, 2017-05-03 11:05:13, 201...</td>\n",
       "    </tr>\n",
       "    <tr>\n",
       "      <th>order_delivered_carrier_date</th>\n",
       "      <td>datetime64[us]</td>\n",
       "      <td>94773</td>\n",
       "      <td>0</td>\n",
       "      <td>0.00</td>\n",
       "      <td>78764</td>\n",
       "      <td>[2017-09-19 18:34:16, 2017-05-04 14:35:00, 201...</td>\n",
       "    </tr>\n",
       "    <tr>\n",
       "      <th>order_delivered_customer_date</th>\n",
       "      <td>datetime64[us]</td>\n",
       "      <td>94773</td>\n",
       "      <td>0</td>\n",
       "      <td>0.00</td>\n",
       "      <td>93984</td>\n",
       "      <td>[2017-09-20 23:43:48, 2017-05-12 16:04:24, 201...</td>\n",
       "    </tr>\n",
       "    <tr>\n",
       "      <th>order_estimated_delivery_date</th>\n",
       "      <td>datetime64[us]</td>\n",
       "      <td>94773</td>\n",
       "      <td>0</td>\n",
       "      <td>0.00</td>\n",
       "      <td>445</td>\n",
       "      <td>[2017-09-29 00:00:00, 2017-05-15 00:00:00, 201...</td>\n",
       "    </tr>\n",
       "    <tr>\n",
       "      <th>review_creation_date</th>\n",
       "      <td>datetime64[us]</td>\n",
       "      <td>94773</td>\n",
       "      <td>0</td>\n",
       "      <td>0.00</td>\n",
       "      <td>627</td>\n",
       "      <td>[2017-09-21 00:00:00, 2017-05-13 00:00:00, 201...</td>\n",
       "    </tr>\n",
       "    <tr>\n",
       "      <th>review_answer_timestamp</th>\n",
       "      <td>datetime64[us]</td>\n",
       "      <td>94773</td>\n",
       "      <td>0</td>\n",
       "      <td>0.00</td>\n",
       "      <td>94623</td>\n",
       "      <td>[2017-09-22 10:57:03, 2017-05-15 11:34:13, 201...</td>\n",
       "    </tr>\n",
       "    <tr>\n",
       "      <th>customer_unique_id</th>\n",
       "      <td>object</td>\n",
       "      <td>94773</td>\n",
       "      <td>0</td>\n",
       "      <td>0.00</td>\n",
       "      <td>92351</td>\n",
       "      <td>[871766c5855e863f6eccc05f988b23cb, eb28e67c4c0...</td>\n",
       "    </tr>\n",
       "    <tr>\n",
       "      <th>customer_state</th>\n",
       "      <td>object</td>\n",
       "      <td>94773</td>\n",
       "      <td>0</td>\n",
       "      <td>0.00</td>\n",
       "      <td>27</td>\n",
       "      <td>[RJ, SP, MG, PR, GO, BA, AL, MS, CE, DF, RS, P...</td>\n",
       "    </tr>\n",
       "    <tr>\n",
       "      <th>seller_id</th>\n",
       "      <td>object</td>\n",
       "      <td>94773</td>\n",
       "      <td>0</td>\n",
       "      <td>0.00</td>\n",
       "      <td>2938</td>\n",
       "      <td>[48436dade18ac8b2bce089ec2a041202, dd7ddc04e1b...</td>\n",
       "    </tr>\n",
       "    <tr>\n",
       "      <th>seller_state</th>\n",
       "      <td>object</td>\n",
       "      <td>94773</td>\n",
       "      <td>0</td>\n",
       "      <td>0.00</td>\n",
       "      <td>23</td>\n",
       "      <td>[SP, MG, PR, SC, DF, RS, multiple_states, RJ, ...</td>\n",
       "    </tr>\n",
       "    <tr>\n",
       "      <th>product_details_missing</th>\n",
       "      <td>int64</td>\n",
       "      <td>94773</td>\n",
       "      <td>0</td>\n",
       "      <td>0.00</td>\n",
       "      <td>2</td>\n",
       "      <td>[0, 1]</td>\n",
       "    </tr>\n",
       "  </tbody>\n",
       "</table>\n",
       "</div>"
      ],
      "text/plain": [
       "                                        dtype  non_null  missing_n  missing_%  \\\n",
       "order_id                               object     94773          0       0.00   \n",
       "review_score                            int64     94773          0       0.00   \n",
       "product_id                             object     94773          0       0.00   \n",
       "product_category_name                  object     94773          0       0.00   \n",
       "num_unique_products                     int64     94773          0       0.00   \n",
       "num_items                             float64     94773          0       0.00   \n",
       "total_price                           float64     94773          0       0.00   \n",
       "total_freight                         float64     94773          0       0.00   \n",
       "total_amount                          float64     94773          0       0.00   \n",
       "total_order_weight                    float64     94773          0       0.00   \n",
       "product_name_length                   float64     94773          0       0.00   \n",
       "product_description_length            float64     94773          0       0.00   \n",
       "product_photos_qty                    float64     94773          0       0.00   \n",
       "product_length_cm                     float64     94773          0       0.00   \n",
       "product_height_cm                     float64     94773          0       0.00   \n",
       "product_width_cm                      float64     94773          0       0.00   \n",
       "payment_types                          object     94773          0       0.00   \n",
       "n_payment_types                         Int64     94773          0       0.00   \n",
       "max_payment_installments                Int64     94773          0       0.00   \n",
       "n_payment_records                       Int64     94773          0       0.00   \n",
       "shipping_limit_date            datetime64[us]     94773          0       0.00   \n",
       "order_delivered_carrier_date   datetime64[us]     94773          0       0.00   \n",
       "order_delivered_customer_date  datetime64[us]     94773          0       0.00   \n",
       "order_estimated_delivery_date  datetime64[us]     94773          0       0.00   \n",
       "review_creation_date           datetime64[us]     94773          0       0.00   \n",
       "review_answer_timestamp        datetime64[us]     94773          0       0.00   \n",
       "customer_unique_id                     object     94773          0       0.00   \n",
       "customer_state                         object     94773          0       0.00   \n",
       "seller_id                              object     94773          0       0.00   \n",
       "seller_state                           object     94773          0       0.00   \n",
       "product_details_missing                 int64     94773          0       0.00   \n",
       "\n",
       "                               uniques_n  \\\n",
       "order_id                           94773   \n",
       "review_score                           5   \n",
       "product_id                         29845   \n",
       "product_category_name                 75   \n",
       "num_unique_products                    8   \n",
       "num_items                             17   \n",
       "total_price                         7538   \n",
       "total_freight                       7831   \n",
       "total_amount                       30319   \n",
       "total_order_weight                  2826   \n",
       "product_name_length                   65   \n",
       "product_description_length          2940   \n",
       "product_photos_qty                    19   \n",
       "product_length_cm                     99   \n",
       "product_height_cm                    102   \n",
       "product_width_cm                      94   \n",
       "payment_types                          5   \n",
       "n_payment_types                        2   \n",
       "max_payment_installments              23   \n",
       "n_payment_records                     19   \n",
       "shipping_limit_date                89502   \n",
       "order_delivered_carrier_date       78764   \n",
       "order_delivered_customer_date      93984   \n",
       "order_estimated_delivery_date        445   \n",
       "review_creation_date                 627   \n",
       "review_answer_timestamp            94623   \n",
       "customer_unique_id                 92351   \n",
       "customer_state                        27   \n",
       "seller_id                           2938   \n",
       "seller_state                          23   \n",
       "product_details_missing                2   \n",
       "\n",
       "                                                                         uniques  \n",
       "order_id                       [00010242fe8c5a6d1ba2dd792cb16214, 00018f77f2f...  \n",
       "review_score                                                     [5, 4, 1, 3, 2]  \n",
       "product_id                     [4244733e06e7ecb4970a6e2683c13e61, e5f2d52b802...  \n",
       "product_category_name          [cool_stuff, pet_shop, furniture_decor, perfum...  \n",
       "num_unique_products                                     [1, 2, 4, 3, 5, 6, 7, 8]  \n",
       "num_items                      [1.0, 2.0, 3.0, 4.0, 5.0, 6.0, 8.0, 7.0, 20.0,...  \n",
       "total_price                    [58.9, 239.9, 199.0, 12.99, 199.9, 21.9, 19.9,...  \n",
       "total_freight                  [13.29, 19.93, 17.87, 12.79, 18.14, 12.69, 11....  \n",
       "total_amount                   [72.19, 259.83, 216.87, 25.78, 218.04000000000...  \n",
       "total_order_weight             [650.0, 30000.0, 3050.0, 200.0, 3750.0, 450.0,...  \n",
       "product_name_length            [58.0, 56.0, 59.0, 42.0, 36.0, 52.0, 39.0, 57....  \n",
       "product_description_length     [598.0, 239.0, 695.0, 480.0, 409.0, 558.0, 815...  \n",
       "product_photos_qty             [4.0, 2.0, 1.0, 3.0, 5.0, 8.0, 7.0, 9.0, 6.0, ...  \n",
       "product_length_cm              [28.0, 50.0, 33.0, 16.0, 35.0, 24.0, 27.0, 30....  \n",
       "product_height_cm              [9.0, 30.0, 13.0, 10.0, 40.0, 8.0, 5.0, 75.0, ...  \n",
       "product_width_cm               [14.0, 40.0, 33.0, 15.0, 30.0, 20.0, 45.0, 16....  \n",
       "payment_types                  [credit_card, boleto, credit_card, voucher, de...  \n",
       "n_payment_types                                                           [1, 2]  \n",
       "max_payment_installments       [2, 3, 5, 1, 10, 4, 6, 7, 9, 8, 15, 12, 18, 13...  \n",
       "n_payment_records              [1, 2, 6, 3, 7, 4, 5, 11, 12, 10, 15, 8, 9, 22...  \n",
       "shipping_limit_date            [2017-09-19 09:45:35, 2017-05-03 11:05:13, 201...  \n",
       "order_delivered_carrier_date   [2017-09-19 18:34:16, 2017-05-04 14:35:00, 201...  \n",
       "order_delivered_customer_date  [2017-09-20 23:43:48, 2017-05-12 16:04:24, 201...  \n",
       "order_estimated_delivery_date  [2017-09-29 00:00:00, 2017-05-15 00:00:00, 201...  \n",
       "review_creation_date           [2017-09-21 00:00:00, 2017-05-13 00:00:00, 201...  \n",
       "review_answer_timestamp        [2017-09-22 10:57:03, 2017-05-15 11:34:13, 201...  \n",
       "customer_unique_id             [871766c5855e863f6eccc05f988b23cb, eb28e67c4c0...  \n",
       "customer_state                 [RJ, SP, MG, PR, GO, BA, AL, MS, CE, DF, RS, P...  \n",
       "seller_id                      [48436dade18ac8b2bce089ec2a041202, dd7ddc04e1b...  \n",
       "seller_state                   [SP, MG, PR, SC, DF, RS, multiple_states, RJ, ...  \n",
       "product_details_missing                                                   [0, 1]  "
      ]
     },
     "metadata": {},
     "output_type": "display_data"
    },
    {
     "name": "stdout",
     "output_type": "stream",
     "text": [
      "----------------------------------------------------------------------------------------------------------------------------------\n"
     ]
    }
   ],
   "source": [
    "u.column_overview(df_orders)"
   ]
  },
  {
   "cell_type": "markdown",
   "id": "88841fd0",
   "metadata": {},
   "source": [
    "Since there are no missing values in the relevant columns, we can safely proceed with dtype conversions for optimization. These conversions will help reduce memory usage and improve performance in downstream operations."
   ]
  },
  {
   "cell_type": "markdown",
   "id": "630b6f77",
   "metadata": {},
   "source": [
    "We start by measuring the initial memory usage of the dataset before any optimizations. This will help us quantify the impact of each transformation."
   ]
  },
  {
   "cell_type": "code",
   "execution_count": 107,
   "id": "cde5f622",
   "metadata": {},
   "outputs": [
    {
     "name": "stdout",
     "output_type": "stream",
     "text": [
      "Initial memory: 66.28 MB\n"
     ]
    }
   ],
   "source": [
    "# Define a function to measure memory usage\n",
    "def report_memory(label):\n",
    "    mem = df_orders.memory_usage(deep=True).sum() / 1024**2\n",
    "    print(f\"{label}: {mem:.2f} MB\")\n",
    "    return mem\n",
    "\n",
    "# Measuring Initial Memory Usage\n",
    "mem_initial = report_memory(\"Initial memory\")"
   ]
  },
  {
   "cell_type": "markdown",
   "id": "f45839a0",
   "metadata": {},
   "source": [
    "#### ➤ Converting Float Columns with Integer Values to Integer Types"
   ]
  },
  {
   "cell_type": "markdown",
   "id": "bf3fe544",
   "metadata": {},
   "source": [
    "Some `float` columns actually contain only whole numbers and can be safely downcasted to smaller integer types (e.g., `int8`, `int16`, `int32`). This reduces memory without changing the data."
   ]
  },
  {
   "cell_type": "code",
   "execution_count": 108,
   "id": "8b4c69bb",
   "metadata": {},
   "outputs": [
    {
     "name": "stdout",
     "output_type": "stream",
     "text": [
      "num_items converted to int8\n",
      "total_order_weight converted to int32\n",
      "product_name_length converted to int8\n",
      "product_description_length converted to int16\n",
      "product_photos_qty converted to int8\n",
      "product_length_cm converted to int8\n",
      "product_height_cm converted to int8\n",
      "product_width_cm converted to int8\n",
      "After float → int conversion: 61.58 MB\n"
     ]
    }
   ],
   "source": [
    "# Get a list of all columns with float dtype\n",
    "float_cols = df_orders.select_dtypes(include=\"float\").columns.tolist()\n",
    "\n",
    "# Initialize a list to store float columns that only contain integer values\n",
    "convert_to_int_cols = []\n",
    "\n",
    "# Loop through each float column and check if all values are whole numbers\n",
    "for col in float_cols:\n",
    "    if (df_orders[col] % 1 == 0).all():  # True if no decimal part\n",
    "        convert_to_int_cols.append(col)\n",
    "\n",
    "# Convert eligible columns to int if they have no missing values\n",
    "for col in convert_to_int_cols:\n",
    "    if df_orders[col].isna().sum() == 0:  # Only convert if there are no NaNs\n",
    "        df_orders[col] = pd.to_numeric(df_orders[col], downcast=\"integer\")\n",
    "        print(f\"{col} converted to {df_orders[col].dtype}\")\n",
    "\n",
    "# Measure memory usage after converting float columns to int\n",
    "mem_after_int = report_memory(\"After float → int conversion\")"
   ]
  },
  {
   "cell_type": "markdown",
   "id": "3b7f31a3",
   "metadata": {},
   "source": [
    "#### ➤ Converting Low-Cardinality Object Columns to Category"
   ]
  },
  {
   "cell_type": "markdown",
   "id": "9c76a049",
   "metadata": {},
   "source": [
    "Object columns with relatively few unique values (e.g. product categories, payment types) are great candidates for the `category` type. This conversion is highly memory-efficient and improves performance in filtering and grouping."
   ]
  },
  {
   "cell_type": "code",
   "execution_count": 109,
   "id": "ad71f355",
   "metadata": {},
   "outputs": [
    {
     "name": "stdout",
     "output_type": "stream",
     "text": [
      "After object → category conversion: 34.96 MB\n"
     ]
    }
   ],
   "source": [
    "# Identify all columns with object dtype\n",
    "object_cols = df_orders.select_dtypes(include=\"object\").columns.tolist()\n",
    "\n",
    "# Select object columns with low cardinality (less than 20% unique values)\n",
    "# These are good candidates for conversion to 'category' type\n",
    "category_candidates = [\n",
    "    col for col in object_cols if df_orders[col].nunique() / len(df_orders[col]) < 0.2\n",
    "]\n",
    "\n",
    "# Convert selected columns to 'category' dtype to reduce memory usage\n",
    "for col in category_candidates:\n",
    "    df_orders[col] = df_orders[col].astype(\"category\")\n",
    "\n",
    "# Measure memory usage after converting object columns to category\n",
    "mem_after_cat = report_memory(\"After object → category conversion\")"
   ]
  },
  {
   "cell_type": "code",
   "execution_count": 110,
   "id": "e748a067",
   "metadata": {},
   "outputs": [
    {
     "name": "stdout",
     "output_type": "stream",
     "text": [
      "Total memory saved: 31.31 MB (47% reduction)\n"
     ]
    }
   ],
   "source": [
    "# Summary\n",
    "print(f\"Total memory saved: {mem_initial - mem_after_cat:.2f} MB ({(mem_initial - mem_after_cat) / mem_initial:.0%} reduction)\")"
   ]
  },
  {
   "cell_type": "markdown",
   "id": "bb007083",
   "metadata": {},
   "source": [
    "#### ➤ Final Result: Memory Optimization Summary\n",
    "\n",
    "After both transformations, we significantly reduced the dataset size. Here's the breakdown:\n",
    "\n",
    "| Step                          | Memory Usage |\n",
    "|-------------------------------|--------------|\n",
    "| Initial                       | 66.28 MB     |\n",
    "| After float → int             | 61.58 MB     |\n",
    "| After object → category       | 34.96 MB     |\n",
    "| **Total saved**               | **31.31 MB**     |\n",
    "\n",
    "These changes significantly reduce memory consumption (–47%) and make the dataset more efficient for downstream analysis and modeling."
   ]
  },
  {
   "cell_type": "markdown",
   "id": "50a1bc66",
   "metadata": {},
   "source": [
    "[🠉 Back to top](#structure-of-the-notebook)"
   ]
  },
  {
   "cell_type": "markdown",
   "id": "68bf2823",
   "metadata": {},
   "source": [
    "## **Feature Engineering**"
   ]
  },
  {
   "cell_type": "markdown",
   "id": "208ec3d1",
   "metadata": {},
   "source": [
    "To gain deeper insights from the dataset and enable more meaningful analysis, we create additional features that summarize or highlight important patterns in the data. These engineered features can help reveal relationships not immediately visible in the raw variables and make our subsequent analysis more robust and interpretable.\n",
    "\n",
    "We organize feature creation thematically — starting with characteristics of the orders themselves, and then moving on to products, delivery, payments, and more."
   ]
  },
  {
   "cell_type": "markdown",
   "id": "58336e41",
   "metadata": {},
   "source": [
    "### **🔹 Orders**"
   ]
  },
  {
   "cell_type": "markdown",
   "id": "a9b0cd13",
   "metadata": {},
   "source": [
    "The first set of engineered features focuses on the structure, cost and weight characteristics of individual orders. These can indicate shopping behavior and logistical complexity, which may influence customer satisfaction."
   ]
  },
  {
   "cell_type": "markdown",
   "id": "b645ed91",
   "metadata": {},
   "source": [
    "#### **➤ Order Composition**"
   ]
  },
  {
   "cell_type": "markdown",
   "id": "09794011",
   "metadata": {},
   "source": [
    "One of our core hypotheses is that **order complexity may affect customer satisfaction**. More complex orders—such as those with multiple items, multiple product types, or products from multiple sellers—may be more prone to delivery issues, stockouts, or logistical errors. These factors could, in turn, lead to negative customer experiences and **lower review scores**.\n",
    "\n",
    "To explore this, we examine and quantify various aspects of order composition:\n",
    "\n",
    "- How many items were included in the order?\n",
    "- How many unique product types were ordered?\n",
    "- Were products from more than one seller involved?\n",
    "\n",
    "Understanding these structural differences between simple and complex orders helps us later assess whether complexity correlates with review outcomes."
   ]
  },
  {
   "cell_type": "code",
   "execution_count": null,
   "id": "29421233",
   "metadata": {},
   "outputs": [
    {
     "data": {
      "image/png": "[encoded data removed]",
      "text/plain": [
       "<Figure size 1600x500 with 1 Axes>"
      ]
     },
     "metadata": {},
     "output_type": "display_data"
    }
   ],
   "source": [
    "# Plot the distribution of total item count per order\n",
    "u.plot_value_counts(df_orders, \"num_items\", figsize=(16,5), sort='index')"
   ]
  },
  {
   "cell_type": "markdown",
   "id": "8aa9405e",
   "metadata": {},
   "source": [
    "This shows how many total items are included in each order (including duplicates of the same product). Most orders consist of just one item, with a steep drop-off for higher counts."
   ]
  },
  {
   "cell_type": "code",
   "execution_count": null,
   "id": "98adc06c",
   "metadata": {},
   "outputs": [
    {
     "data": {
      "image/png": "[encoded data removed]",
      "text/plain": [
       "<Figure size 1600x500 with 1 Axes>"
      ]
     },
     "metadata": {},
     "output_type": "display_data"
    }
   ],
   "source": [
    "# Plot the distribution of unique product types per order\n",
    "u.plot_value_counts(df_orders, \"num_unique_products\", figsize=(16, 5), sort=\"index\")\n"
   ]
  },
  {
   "cell_type": "markdown",
   "id": "43c78f5f",
   "metadata": {},
   "source": [
    "This highlights how many **different products** (not just duplicates) are in each order. Again, most customers only purchase one unique product per order."
   ]
  },
  {
   "cell_type": "markdown",
   "id": "626a6fdf",
   "metadata": {},
   "source": [
    "**Creating Order Complexity Flags**"
   ]
  },
  {
   "cell_type": "markdown",
   "id": "981cf009",
   "metadata": {},
   "source": [
    "We now introduce binary flags to capture whether an order is **more complex** — involving multiple items, products, or sellers."
   ]
  },
  {
   "cell_type": "code",
   "execution_count": null,
   "id": "b3ab32a3",
   "metadata": {},
   "outputs": [],
   "source": [
    "# Binary flag: more than one item in the order\n",
    "df_orders[\"has_multiple_items\"] = (df_orders[\"num_items\"] > 1).astype(int)\n",
    "\n",
    "# Binary flag: more than one unique product in the order\n",
    "df_orders[\"has_multiple_products\"] = (df_orders[\"num_unique_products\"] > 1).astype(int)\n",
    "\n",
    "# Binary flag: more than one unique product in the order\n",
    "df_orders[\"has_multiple_sellers\"] = (df_orders[\"seller_id\"] == \"multiple_sellers\").astype(int)\n",
    "\n",
    "# Store flags in a list for later plotting\n",
    "order_composition_cols = [\"has_multiple_items\", \"has_multiple_products\", \"has_multiple_sellers\"]"
   ]
  },
  {
   "cell_type": "markdown",
   "id": "d6ccb717",
   "metadata": {},
   "source": [
    "These features will help identify whether more complex orders tend to correlate with different customer experiences (e.g. delayed shipping, lower review scores)."
   ]
  },
  {
   "cell_type": "code",
   "execution_count": null,
   "id": "d03ef782",
   "metadata": {},
   "outputs": [
    {
     "data": {
      "image/png": "[encoded data removed]",
      "text/plain": [
       "<Figure size 1800x400 with 3 Axes>"
      ]
     },
     "metadata": {},
     "output_type": "display_data"
    }
   ],
   "source": [
    "# Plot the distribution of the order complexity flags\n",
    "u.plot_countplots_grid(df_orders, order_composition_cols)"
   ]
  },
  {
   "cell_type": "markdown",
   "id": "5020a463",
   "metadata": {},
   "source": [
    "As expected, the majority of orders are simple—most have only one item, one product type, and one seller. However, the small subset of complex orders may be especially interesting to investigate further."
   ]
  },
  {
   "cell_type": "markdown",
   "id": "51db2885",
   "metadata": {},
   "source": [
    "#### **➤ Price**"
   ]
  },
  {
   "cell_type": "markdown",
   "id": "1edb0de2",
   "metadata": {},
   "source": [
    "Understanding the distribution of order prices can reveal important patterns about customer behavior and product value. Below we explore the distribution of the `total_price` variable, create custom price groups, and generate interpretable features for analysis."
   ]
  },
  {
   "cell_type": "markdown",
   "id": "8bd7bf4f",
   "metadata": {},
   "source": [
    "We begin by inspecting the distribution of the total_price column using multiple visualizations."
   ]
  },
  {
   "cell_type": "code",
   "execution_count": 115,
   "id": "44dd5953",
   "metadata": {},
   "outputs": [
    {
     "data": {
      "image/png": "[encoded data removed]",
      "text/plain": [
       "<Figure size 1600x400 with 3 Axes>"
      ]
     },
     "metadata": {},
     "output_type": "display_data"
    }
   ],
   "source": [
    "# Generate boxplot, histogram, and KDE plot for 'total_price'\n",
    "u.numplots_univariate('total_price', df_orders)"
   ]
  },
  {
   "cell_type": "markdown",
   "id": "fb9b0454",
   "metadata": {},
   "source": [
    "The plots show a heavy right-skew in price values, with a long tail of outliers.\n",
    "\n",
    "To better understand the main part of the distribution, we zoom in on the lower end:"
   ]
  },
  {
   "cell_type": "code",
   "execution_count": 116,
   "id": "ed37c192",
   "metadata": {},
   "outputs": [
    {
     "data": {
      "text/plain": [
       "count    94,773.00\n",
       "mean        137.08\n",
       "std         208.32\n",
       "min           0.85\n",
       "25%          45.90\n",
       "50%          86.90\n",
       "75%         149.90\n",
       "90%         269.00\n",
       "95%         399.00\n",
       "99%         990.53\n",
       "99.9%     2,251.05\n",
       "99.99%    4,256.77\n",
       "max      13,440.00\n",
       "Name: total_price, dtype: float64"
      ]
     },
     "execution_count": 116,
     "metadata": {},
     "output_type": "execute_result"
    }
   ],
   "source": [
    "# Display extended percentiles to understand the price spread\n",
    "df_orders[\"total_price\"].describe(percentiles=[0.25, 0.5, 0.75, 0.9, 0.95, 0.99, 0.999, 0.9999])"
   ]
  },
  {
   "cell_type": "code",
   "execution_count": 117,
   "id": "9c9eec6c",
   "metadata": {},
   "outputs": [
    {
     "data": {
      "image/png": "[encoded data removed]",
      "text/plain": [
       "<Figure size 1000x400 with 1 Axes>"
      ]
     },
     "metadata": {},
     "output_type": "display_data"
    }
   ],
   "source": [
    "# Zoomed histogram of total_price up to 1000 BRL\n",
    "plt.figure(figsize=(10, 4))\n",
    "df_orders[\"total_price\"].plot(kind=\"hist\", bins=1000, color=blue)\n",
    "plt.xlim(0, 1000)\n",
    "plt.title(\"Histogram of Total Price (zoomed)\")\n",
    "plt.ylabel('Count')\n",
    "plt.show()"
   ]
  },
  {
   "cell_type": "markdown",
   "id": "65626c8b",
   "metadata": {},
   "source": [
    "**Creating Price Features**"
   ]
  },
  {
   "cell_type": "markdown",
   "id": "14a76432",
   "metadata": {},
   "source": [
    "**▪️ Price Group (`price_group`)**\n",
    "\n",
    "While the 95th percentile of `total_price` is around **399 BRL**, we chose to define the highest price group as **500+ BRL** for the following reasons:\n",
    "\n",
    "- **Clarity and interpretability**: 500 BRL is a clean, round threshold that is easier to interpret and communicate.\n",
    "- **Outlier separation**: Orders above 500 BRL represent the top ~3–4% of all orders, which still captures the high-value outliers of the distribution.\n",
    "- **Practical binning**: Using 500 as a cutoff avoids overly narrow bins at the top of the distribution and ensures a balance between statistical accuracy and usability.\n",
    "\n",
    "The resulting bins are:\n",
    "- `<50 BRL`\n",
    "- `50–99 BRL`\n",
    "- `100–199 BRL`\n",
    "- `200–499 BRL`\n",
    "- `500+ BRL`\n",
    "\n",
    "This approach provides both data-driven and user-friendly segmentation."
   ]
  },
  {
   "cell_type": "code",
   "execution_count": 118,
   "id": "7fe6dff3",
   "metadata": {},
   "outputs": [],
   "source": [
    "# Define custom price bin edges and corresponding labels\n",
    "price_bins = [0, 50, 100, 200, 500, np.inf]\n",
    "price_labels = [\"<50 BRL\", \"50–99 BRL\", \"100–199 BRL\", \"200–499 BRL\", \"500+ BRL\"]\n",
    "\n",
    "# Create a new column by grouping total_price into defined price ranges\n",
    "df_orders[\"price_group\"] = pd.cut(df_orders[\"total_price\"], bins=price_bins, labels=price_labels, include_lowest=True)\n",
    "\n",
    "# Convert the new price_group column to an ordered categorical type\n",
    "# This ensures the bins have a defined logical order for sorting or plotting\n",
    "df_orders[\"price_group\"] = pd.Categorical(df_orders[\"price_group\"], categories=price_labels, ordered=True)"
   ]
  },
  {
   "cell_type": "markdown",
   "id": "8485187d",
   "metadata": {},
   "source": [
    "We now visualize how orders are distributed across the defined price groups."
   ]
  },
  {
   "cell_type": "code",
   "execution_count": 119,
   "id": "3f68546b",
   "metadata": {},
   "outputs": [
    {
     "data": {
      "image/png": "[encoded data removed]",
      "text/plain": [
       "<Figure size 600x400 with 1 Axes>"
      ]
     },
     "metadata": {},
     "output_type": "display_data"
    }
   ],
   "source": [
    "# Plot value counts of each price group\n",
    "u.plot_value_counts(df_orders, \"price_group\")"
   ]
  },
  {
   "cell_type": "markdown",
   "id": "7c6d8445",
   "metadata": {},
   "source": [
    "The distribution confirms that most orders are priced under 200 BRL, with only ~3.6% falling into the 500+ BRL group."
   ]
  },
  {
   "cell_type": "markdown",
   "id": "3fdf0e2a",
   "metadata": {},
   "source": [
    "**▪️ High-Price Flag (`price_over_500`)**"
   ]
  },
  {
   "cell_type": "markdown",
   "id": "90dd22a1",
   "metadata": {},
   "source": [
    "To complement the price group segmentation, we introduce a binary feature that flags high-value orders with a **total price of 500 BRL or more**. \n",
    "\n",
    "High-price orders may be associated with different customer behavior or satisfaction patterns (e.g., higher expectations, increased return rates)."
   ]
  },
  {
   "cell_type": "code",
   "execution_count": 120,
   "id": "0a2c60e6",
   "metadata": {},
   "outputs": [],
   "source": [
    "# Binary flag: 1 if the total price of the order is 500 BRL or more\n",
    "df_orders[\"price_over_500\"] = (df_orders[\"total_price\"] >= 500).astype(int)"
   ]
  },
  {
   "cell_type": "markdown",
   "id": "a6624d1f",
   "metadata": {},
   "source": [
    "#### **➤ Freight**"
   ]
  },
  {
   "cell_type": "markdown",
   "id": "ffbae5f2",
   "metadata": {},
   "source": [
    "Freight cost is another critical factor in customer satisfaction. High shipping fees may lead to negative reviews, especially if delivery speed or quality doesn’t meet expectations. On the other hand, free or low-cost shipping can positively impact customer perception. \n",
    "\n",
    "To understand the potential impact of freight on satisfaction, we start by analyzing the distribution of shipping costs and then engineer useful features to capture freight-related patterns."
   ]
  },
  {
   "cell_type": "code",
   "execution_count": 122,
   "id": "1a716ad3",
   "metadata": {},
   "outputs": [
    {
     "data": {
      "image/png": "[encoded data removed]",
      "text/plain": [
       "<Figure size 1600x400 with 3 Axes>"
      ]
     },
     "metadata": {},
     "output_type": "display_data"
    }
   ],
   "source": [
    "# Generate boxplot, histogram, and KDE plot for 'total_freight'\n",
    "u.numplots_univariate(\"total_freight\", df_orders)\n"
   ]
  },
  {
   "cell_type": "markdown",
   "id": "a924f6cb",
   "metadata": {},
   "source": [
    "This initial overview reveals a **highly skewed distribution** with many small values and a few extreme outliers above 1000 BRL. Such heavy tails are common in real-world freight data and may reflect long-distance or bulky shipments."
   ]
  },
  {
   "cell_type": "markdown",
   "id": "0cafdec8",
   "metadata": {},
   "source": [
    "To ensure data quality, we review the two most extreme freight values (> 1,000 BRL)."
   ]
  },
  {
   "cell_type": "code",
   "execution_count": null,
   "id": "dec6da51",
   "metadata": {},
   "outputs": [
    {
     "data": {
      "text/html": [
       "<div>\n",
       "<style scoped>\n",
       "    .dataframe tbody tr th:only-of-type {\n",
       "        vertical-align: middle;\n",
       "    }\n",
       "\n",
       "    .dataframe tbody tr th {\n",
       "        vertical-align: top;\n",
       "    }\n",
       "\n",
       "    .dataframe thead th {\n",
       "        text-align: right;\n",
       "    }\n",
       "</style>\n",
       "<table border=\"1\" class=\"dataframe\">\n",
       "  <thead>\n",
       "    <tr style=\"text-align: right;\">\n",
       "      <th></th>\n",
       "      <th>order_id</th>\n",
       "      <th>review_score</th>\n",
       "      <th>product_id</th>\n",
       "      <th>product_category_name</th>\n",
       "      <th>num_items</th>\n",
       "      <th>total_price</th>\n",
       "      <th>total_freight</th>\n",
       "      <th>total_amount</th>\n",
       "      <th>total_order_weight</th>\n",
       "      <th>seller_state</th>\n",
       "      <th>customer_state</th>\n",
       "    </tr>\n",
       "  </thead>\n",
       "  <tbody>\n",
       "    <tr>\n",
       "      <th>13417</th>\n",
       "      <td>2455cbeb73fd04b170ca2504662f95ce</td>\n",
       "      <td>1</td>\n",
       "      <td>multiple_products</td>\n",
       "      <td>furniture_decor</td>\n",
       "      <td>6</td>\n",
       "      <td>419.40</td>\n",
       "      <td>1,002.29</td>\n",
       "      <td>1,421.69</td>\n",
       "      <td>154200</td>\n",
       "      <td>SP</td>\n",
       "      <td>PR</td>\n",
       "    </tr>\n",
       "    <tr>\n",
       "      <th>76771</th>\n",
       "      <td>cf4659487be50c0c317cff3564c4a840</td>\n",
       "      <td>5</td>\n",
       "      <td>bc3c6d2a621414f2e1df7a8a32a2828e</td>\n",
       "      <td>signaling_and_security</td>\n",
       "      <td>6</td>\n",
       "      <td>1,050.00</td>\n",
       "      <td>1,794.96</td>\n",
       "      <td>2,844.96</td>\n",
       "      <td>112200</td>\n",
       "      <td>SP</td>\n",
       "      <td>PB</td>\n",
       "    </tr>\n",
       "  </tbody>\n",
       "</table>\n",
       "</div>"
      ],
      "text/plain": [
       "                               order_id  review_score  \\\n",
       "13417  2455cbeb73fd04b170ca2504662f95ce             1   \n",
       "76771  cf4659487be50c0c317cff3564c4a840             5   \n",
       "\n",
       "                             product_id   product_category_name  num_items  \\\n",
       "13417                 multiple_products         furniture_decor          6   \n",
       "76771  bc3c6d2a621414f2e1df7a8a32a2828e  signaling_and_security          6   \n",
       "\n",
       "       total_price  total_freight  total_amount  total_order_weight  \\\n",
       "13417       419.40       1,002.29      1,421.69              154200   \n",
       "76771     1,050.00       1,794.96      2,844.96              112200   \n",
       "\n",
       "      seller_state customer_state  \n",
       "13417           SP             PR  \n",
       "76771           SP             PB  "
      ]
     },
     "execution_count": 133,
     "metadata": {},
     "output_type": "execute_result"
    }
   ],
   "source": [
    "# Look at the order(s) with unusually high freight\n",
    "df_orders[df_orders[\"total_freight\"] > 1000][main_columns_basic + [\"total_order_weight\", \"seller_state\", 'customer_state']]"
   ]
  },
  {
   "cell_type": "markdown",
   "id": "95d88009",
   "metadata": {},
   "source": [
    "Both cases appear to be legitimate:\n",
    "\n",
    "- One order includes **furniture** with a very high total weight and a low review score (1 star), possibly indicating delivery dissatisfaction.\n",
    "- Another order in **signaling and security** also has high freight but received a perfect review score.\n",
    "\n",
    "These findings suggest that extremely high freight charges, while rare, can occur in specific high-weight product categories. We retain these records for now, while keeping in mind their potential influence on satisfaction."
   ]
  },
  {
   "cell_type": "code",
   "execution_count": 124,
   "id": "5214f91b",
   "metadata": {},
   "outputs": [
    {
     "data": {
      "text/plain": [
       "count    94,773.00\n",
       "mean         22.76\n",
       "std          21.51\n",
       "min           0.00\n",
       "25%          13.84\n",
       "50%          17.17\n",
       "75%          24.00\n",
       "90%          39.32\n",
       "95%          54.72\n",
       "99%         104.23\n",
       "99.9%       230.88\n",
       "99.99%      423.57\n",
       "max       1,794.96\n",
       "Name: total_freight, dtype: float64"
      ]
     },
     "execution_count": 124,
     "metadata": {},
     "output_type": "execute_result"
    }
   ],
   "source": [
    "# Display extended percentiles to understand the freight spread\n",
    "df_orders[\"total_freight\"].describe(percentiles=[0.25, 0.5, 0.75, 0.9, 0.95, 0.99, 0.999, 0.9999])\n"
   ]
  },
  {
   "cell_type": "markdown",
   "id": "9215e342",
   "metadata": {},
   "source": [
    "We observe that:\n",
    "\n",
    "- 75% of orders have freight costs under 24 BRL\n",
    "- 99% are below ~104 BRL\n",
    "- A small number of extreme values (up to 1795 BRL) create a long tail\n",
    "\n",
    "These percentiles help identify reasonable thresholds for feature engineering and outlier handling."
   ]
  },
  {
   "cell_type": "code",
   "execution_count": 129,
   "id": "3b1e4f7d",
   "metadata": {},
   "outputs": [
    {
     "data": {
      "image/png": "[encoded data removed]",
      "text/plain": [
       "<Figure size 1000x400 with 1 Axes>"
      ]
     },
     "metadata": {},
     "output_type": "display_data"
    }
   ],
   "source": [
    "# Zoomed histogram of total_freight up to 100 BRL\n",
    "plt.figure(figsize=(10, 4))\n",
    "df_orders[\"total_freight\"].plot(kind=\"hist\", bins=1000, color=blue)\n",
    "plt.xlim(0, 100)\n",
    "plt.title(\"Histogram of Total Freight (zoomed)\")\n",
    "plt.ylabel(\"Count\")\n",
    "plt.show()"
   ]
  },
  {
   "cell_type": "markdown",
   "id": "77114619",
   "metadata": {},
   "source": [
    "This zoomed view confirms that the majority of freight charges are concentrated below 50 BRL, with small spikes around round numbers like 10, 15, and 20 BRL — possibly due to standard pricing tiers."
   ]
  },
  {
   "cell_type": "markdown",
   "id": "9dee8536",
   "metadata": {},
   "source": [
    "**Creating Freight Features**"
   ]
  },
  {
   "cell_type": "markdown",
   "id": "0701ec88",
   "metadata": {},
   "source": [
    "We derive multiple freight-related features to better understand how delivery costs influence customer satisfaction. These include identifying free shipping, grouping absolute freight values, computing relative freight share, and flagging extreme proportions."
   ]
  },
  {
   "cell_type": "markdown",
   "id": "dd1e858d",
   "metadata": {},
   "source": [
    "**▪️Free Sheeping (`free_shipping`)**"
   ]
  },
  {
   "cell_type": "markdown",
   "id": "642cf279",
   "metadata": {},
   "source": [
    "This binary feature helps us detect whether shipping was offered for free. Free shipping can significantly influence customer satisfaction and purchasing behavior."
   ]
  },
  {
   "cell_type": "code",
   "execution_count": 144,
   "id": "4916bd5e",
   "metadata": {},
   "outputs": [],
   "source": [
    "# Flag orders with 0 BRL freight (possibly free shipping)\n",
    "df_orders[\"free_shipping\"] = (df_orders[\"total_freight\"] == 0).astype(int)"
   ]
  },
  {
   "cell_type": "markdown",
   "id": "3d994b47",
   "metadata": {},
   "source": [
    "**▪️Freight Group (`freight_group`)**"
   ]
  },
  {
   "cell_type": "markdown",
   "id": "23cd1c07",
   "metadata": {},
   "source": [
    "We categorize absolute freight costs into meaningful bins to explore distribution patterns and their potential relationship with satisfaction."
   ]
  },
  {
   "cell_type": "code",
   "execution_count": null,
   "id": "0bd5f6df",
   "metadata": {},
   "outputs": [],
   "source": [
    "# Create binned freight ranges (absolute freight cost in BRL)\n",
    "freight_bins = [-0.01, 0, 10, 20, 50, 100, np.inf]\n",
    "freight_labels = [\n",
    "    \"Free\",\n",
    "    \"Very Low (0-10)\",\n",
    "    \"Low (10-20)\",\n",
    "    \"Medium (20-50)\",\n",
    "    \"High (50-100)\",\n",
    "    \"Very High (>100)\",\n",
    "]\n",
    "\n",
    "# Assign freight cost to bin\n",
    "df_orders[\"freight_group\"] = pd.cut(\n",
    "    df_orders[\"total_freight\"], bins=freight_bins, labels=freight_labels\n",
    ")\n",
    "\n",
    "# Ensure categorical order for correct sorting\n",
    "df_orders[\"freight_group\"] = pd.Categorical(\n",
    "    df_orders[\"freight_group\"], categories=freight_labels, ordered=True\n",
    ")"
   ]
  },
  {
   "cell_type": "markdown",
   "id": "1c51e621",
   "metadata": {},
   "source": [
    "Visualize how frequently each freight group occurs in the dataset."
   ]
  },
  {
   "cell_type": "code",
   "execution_count": null,
   "id": "498e1c31",
   "metadata": {},
   "outputs": [
    {
     "data": {
      "image/png": "[encoded data removed]",
      "text/plain": [
       "<Figure size 700x400 with 1 Axes>"
      ]
     },
     "metadata": {},
     "output_type": "display_data"
    }
   ],
   "source": [
    "# Plot distribution of freight groups\n",
    "u.plot_value_counts(df_orders, \"freight_group\", sort=\"index\", figsize=(7,4))"
   ]
  },
  {
   "cell_type": "markdown",
   "id": "3686d082",
   "metadata": {},
   "source": [
    "Over 80% of orders fall in the **Low to Medium** freight cost range (10–50 BRL), while **free shipping** and **very high freight** are rare. This suggests freight cost is relatively moderate for most customers."
   ]
  },
  {
   "cell_type": "markdown",
   "id": "bc23ebfb",
   "metadata": {},
   "source": [
    "**▪️Freight Share (`freight_share`)**"
   ]
  },
  {
   "cell_type": "markdown",
   "id": "30469f46",
   "metadata": {},
   "source": [
    "We calculate the proportion of freight relative to the total paid amount for the order (freight + product price). This feature has a more normalized view than absolute freight cost and gives insight into whether the delivery cost feels excessive."
   ]
  },
  {
   "cell_type": "code",
   "execution_count": 134,
   "id": "b114393d",
   "metadata": {},
   "outputs": [],
   "source": [
    "# Compute freight share: proportion of freight cost in total amount\n",
    "df_orders[\"freight_share\"] = df_orders[\"total_freight\"] / df_orders[\"total_amount\"]"
   ]
  },
  {
   "cell_type": "markdown",
   "id": "cebbfa58",
   "metadata": {},
   "source": [
    "Visualize distribution of freight_share to identify skewness, outliers, and dominant ranges."
   ]
  },
  {
   "cell_type": "code",
   "execution_count": 135,
   "id": "88b2c7df",
   "metadata": {},
   "outputs": [
    {
     "data": {
      "image/png": "[encoded data removed]",
      "text/plain": [
       "<Figure size 1600x400 with 3 Axes>"
      ]
     },
     "metadata": {},
     "output_type": "display_data"
    }
   ],
   "source": [
    "# Generate boxplot, histogram, and KDE plot for 'total_freight'\n",
    "u.numplots_univariate(\"freight_share\", df_orders)"
   ]
  },
  {
   "cell_type": "markdown",
   "id": "045c8c59",
   "metadata": {},
   "source": [
    "Most orders have freight share between 5% and 30%, but there are noticeable outliers >50%, which might indicate overpricing or low-value orders with high shipping fees."
   ]
  },
  {
   "cell_type": "markdown",
   "id": "533496fa",
   "metadata": {},
   "source": [
    "**▪️Freight Share Group (`freight_share_group`)**"
   ]
  },
  {
   "cell_type": "markdown",
   "id": "37662ad4",
   "metadata": {},
   "source": [
    "Categorizing freight share enables clearer analysis of how the proportional shipping cost affects customer satisfaction across different levels. The highest bin (>50%) may indicate disproportionately expensive shipping."
   ]
  },
  {
   "cell_type": "code",
   "execution_count": null,
   "id": "bef55ed8",
   "metadata": {},
   "outputs": [],
   "source": [
    "# Define freight share bins and labels\n",
    "freight_share_bins = [0, 0.05, 0.1, 0.2, 0.5, 1.0]\n",
    "freight_share_labels = [\"<5%\", \"5–10%\", \"10–20%\", \"20–50%\", \">50%\"]\n",
    "\n",
    "# Assign freight share to bin\n",
    "df_orders[\"freight_share_group\"] = pd.cut(\n",
    "    df_orders[\"freight_share\"],\n",
    "    bins=freight_share_bins,\n",
    "    labels=freight_share_labels,\n",
    "    include_lowest=True,\n",
    ")\n",
    "\n",
    "# Ensure categorical order for correct sorting\n",
    "df_orders[\"freight_share_group\"] = pd.Categorical(\n",
    "    df_orders[\"freight_share_group\"], categories=freight_share_labels, ordered=True\n",
    ")\n"
   ]
  },
  {
   "cell_type": "markdown",
   "id": "a3672021",
   "metadata": {},
   "source": [
    "Visualize how orders are distributed across freight share brackets."
   ]
  },
  {
   "cell_type": "code",
   "execution_count": null,
   "id": "8581e01c",
   "metadata": {},
   "outputs": [
    {
     "data": {
      "image/png": "[encoded data removed]",
      "text/plain": [
       "<Figure size 600x400 with 1 Axes>"
      ]
     },
     "metadata": {},
     "output_type": "display_data"
    }
   ],
   "source": [
    "# Plot distribution of freight share groups\n",
    "u.plot_value_counts(df_orders, 'freight_share_group', sort='index')"
   ]
  },
  {
   "cell_type": "markdown",
   "id": "dd7b739b",
   "metadata": {},
   "source": [
    "The majority of orders fall into the 10–50% freight share range, with nearly 3% of orders having extremely high freight share (>50%), which may contribute to negative reviews."
   ]
  },
  {
   "cell_type": "markdown",
   "id": "5be64811",
   "metadata": {},
   "source": [
    "**▪️High Freight Share (`freight_share_over_50pct`)**"
   ]
  },
  {
   "cell_type": "markdown",
   "id": "07211e7a",
   "metadata": {},
   "source": [
    "Create a binary flag for orders where the freight share exceeds 50% of the total paid amount. It helps to detect extreme cases where shipping cost outweighs product value — useful for outlier analysis or identifying potential customer dissatisfaction triggers."
   ]
  },
  {
   "cell_type": "code",
   "execution_count": null,
   "id": "1bfe0102",
   "metadata": {},
   "outputs": [],
   "source": [
    "# Flag orders where freight is more than 50% of total amount\n",
    "df_orders[\"freight_share_over_50pct\"] = (df_orders[\"freight_share\"] > 0.5).astype(int)"
   ]
  }
 ],
 "metadata": {
  "kernelspec": {
   "display_name": "stackfuelpp",
   "language": "python",
   "name": "python3"
  },
  "language_info": {
   "codemirror_mode": {
    "name": "ipython",
    "version": 3
   },
   "file_extension": ".py",
   "mimetype": "text/x-python",
   "name": "python",
   "nbconvert_exporter": "python",
   "pygments_lexer": "ipython3",
   "version": "3.13.5"
  }
 },
 "nbformat": 4,
 "nbformat_minor": 5
}
