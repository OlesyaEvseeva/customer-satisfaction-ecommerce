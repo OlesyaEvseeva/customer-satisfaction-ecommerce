{
 "cells": [
  {
   "cell_type": "markdown",
   "id": "0e109ff7",
   "metadata": {},
   "source": [
    "# Data Integration & Preprocessing for Customer Satisfaction Analysis\n",
    "\n",
    "This notebook is part of a larger project exploring customer satisfaction in Brazilian e-commerce using the [Olist dataset](https://www.kaggle.com/datasets/olistbr/brazilian-ecommerce).  \n",
    "It builds on the cleaned datasets prepared in the previous notebook by joining them into a single analytical table, performing additional data cleaning, and engineering features to support the upcoming analysis.\n",
    "\n",
    "\n",
    "**Goals of this notebook:**\n",
    "\n",
    "- Join the cleaned tables into a consolidated dataset at the order level  \n",
    "- Clean and standardize the merged dataset (e.g., data types, missing values)  \n",
    "- Create new features to capture relevant aspects of orders, products, payments etc.\n",
    "- Export the final dataset for analysis\n",
    "\n",
    "**This notebook is preceded and followed by:**\n",
    "\n",
    "- [Data Cleaning Notebook](./01_data_cleaning.ipynb): loads and prepares the individual raw datasets for integration  \n",
    "- [Exploratory Analysis Notebook](./03_customer-satisfaction-analysis.ipynb): investigates customer satisfaction patterns and key influencing factors\n",
    "---"
   ]
  }
 ],
 "metadata": {
  "language_info": {
   "name": "python"
  }
 },
 "nbformat": 4,
 "nbformat_minor": 5
}
