{
 "cells": [
  {
   "cell_type": "code",
   "execution_count": null,
   "id": "5b1ec260",
   "metadata": {},
   "outputs": [],
   "source": [
    "# Import libraries\n",
    "import os\n",
    "import pandas as pd\n",
    "import numpy as np\n",
    "import seaborn as sns\n",
    "import matplotlib.pyplot as plt\n",
    "%matplotlib inline"
   ]
  },
  {
   "cell_type": "code",
   "execution_count": null,
   "id": "0ce2a974",
   "metadata": {},
   "outputs": [],
   "source": [
    "# Set display options for better readability in output\n",
    "pd.set_option(\"display.max_colwidth\", None)\n",
    "pd.set_option(\"display.float_format\", '{:,.2f}'.format)"
   ]
  },
  {
   "cell_type": "code",
   "execution_count": null,
   "id": "9a3d3031",
   "metadata": {},
   "outputs": [],
   "source": [
    "# Load all CSV files from the Brazilian E-Commerce dataset into separate DataFrames\n",
    "data_path = \"../data/brazilian/raw/\"\n",
    "files = os.listdir(data_path)\n",
    "\n",
    "customers = pd.read_csv(data_path + \"olist_customers_dataset.csv\")\n",
    "geolocation = pd.read_csv(data_path + \"olist_geolocation_dataset.csv\")\n",
    "orders = pd.read_csv(data_path + \"olist_orders_dataset.csv\")\n",
    "items = pd.read_csv(data_path + \"olist_order_items_dataset.csv\")\n",
    "payments = pd.read_csv(data_path + \"olist_order_payments_dataset.csv\")\n",
    "reviews = pd.read_csv(data_path + \"olist_order_reviews_dataset.csv\")\n",
    "products = pd.read_csv(data_path + \"olist_products_dataset.csv\")\n",
    "sellers = pd.read_csv(data_path + \"olist_sellers_dataset.csv\")\n",
    "translation = pd.read_csv(data_path + \"product_category_name_translation.csv\")\n",
    "\n",
    "# Store all DataFrames in a dictionary for easier looping and inspection\n",
    "dataframes = {\n",
    "    'customers': customers,\n",
    "    'geolocation': geolocation,\n",
    "    'orders': orders,\n",
    "    'items': items,\n",
    "    'payments': payments,\n",
    "    'reviews': reviews,\n",
    "    'products': products,\n",
    "    'sellers': sellers,\n",
    "    'translation': translation\n",
    "}"
   ]
  },
  {
   "cell_type": "code",
   "execution_count": null,
   "id": "20441cfd",
   "metadata": {},
   "outputs": [],
   "source": [
    "# Define a function to summarize a dictionary of DataFrames\n",
    "def summarize_dataframes(df_dict=dataframes):\n",
    "    \"\"\"\n",
    "    Takes a dictionary of DataFrames and returns a summary DataFrame\n",
    "        with the following information for each:\n",
    "        - name: the key name from the dictionary\n",
    "        - rows: number of rows in the DataFrame\n",
    "        - columns: number of columns\n",
    "        - column_names: a list of column names\n",
    "        - duplicates: number of duplicated rows\n",
    "    \"\"\"\n",
    "    summary = []\n",
    "\n",
    "    # Loop over each DataFrame in the dictionary\n",
    "    for name, df in df_dict.items():\n",
    "        summary.append(\n",
    "            {\n",
    "                \"name\": name,\n",
    "                \"rows\": df.shape[0],\n",
    "                \"columns\": df.shape[1],\n",
    "                \"column_names\": list(df.columns),\n",
    "                \"duplicates\": df.duplicated().sum(),\n",
    "            }\n",
    "        )\n",
    "    # Return a summary DataFrame\n",
    "    return pd.DataFrame(summary)\n",
    "\n",
    "# Call the function and display the summary of all loaded DataFrames\n",
    "summarize_dataframes(dataframes)"
   ]
  },
  {
   "cell_type": "code",
   "execution_count": null,
   "id": "fe4d303b",
   "metadata": {},
   "outputs": [],
   "source": [
    "# Display a random sample of 5 rows from each DataFrame for a quick visual inspection\n",
    "for name, df in dataframes.items():\n",
    "    print(f'{name.capitalize()}:')\n",
    "    display(df.sample(5))\n",
    "    print(\"-\"*130)"
   ]
  }
 ],
 "metadata": {
  "kernelspec": {
   "display_name": "stackfuelpp",
   "language": "python",
   "name": "python3"
  },
  "language_info": {
   "codemirror_mode": {
    "name": "ipython",
    "version": 3
   },
   "file_extension": ".py",
   "mimetype": "text/x-python",
   "name": "python",
   "nbconvert_exporter": "python",
   "pygments_lexer": "ipython3",
   "version": "3.13.5"
  }
 },
 "nbformat": 4,
 "nbformat_minor": 5
}
